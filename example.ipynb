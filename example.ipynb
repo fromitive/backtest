{
 "cells": [
  {
   "cell_type": "code",
   "execution_count": 16,
   "id": "c6fe7a95",
   "metadata": {},
   "outputs": [
    {
     "name": "stdout",
     "output_type": "stream",
     "text": [
      "The autoreload extension is already loaded. To reload it, use:\n",
      "  %reload_ext autoreload\n"
     ]
    }
   ],
   "source": [
    "from backtest.repository.finance.finance_repo import FinanceRepo\n",
    "%load_ext autoreload\n",
    "%autoreload 2\n",
    "\n",
    "from backtest.domains.stockdata import StockData\n",
    "from backtest.domains.strategy import Strategy\n",
    "from backtest.domains.strategy_result import StrategyResult,StrategyResultColumnType\n",
    "from backtest.domains.backtest import Backtest\n",
    "from backtest.repository.webrepo.crypto.bithumb_repo import BithumbRepo\n",
    "from backtest.repository.webrepo.crypto.upbit_repo import UpbitRepo\n",
    "from backtest.repository.webrepo.crypto.binance_repo import BinanceRepo\n",
    "from backtest.use_cases.stockdata_from_repo import stockdata_from_repo\n",
    "from backtest.request.stockdata_from_repo import build_stock_data_from_repo_request\n",
    "from backtest.use_cases.strategy_execute import sma_function, sma_big_stock_function, sma_multi_big_stock_function, greed_fear_index_function, rsi_function, rsi_big_stock_function\n",
    "from backtest.use_cases.backtest_execute import backtest_execute\n",
    "from backtest.util.stockdata_util import get_greed_fear_index\n",
    "import pandas as pd\n",
    "\n",
    "request = build_stock_data_from_repo_request(\n",
    "    filters={'order__eq': 'ALGO', 'from__eq': '2019-01-01'})\n",
    "response = stockdata_from_repo(BithumbRepo(), request=request,cache=True)\n",
    "\n",
    "request2 = build_stock_data_from_repo_request(\n",
    "    filters={'order__eq': 'BTC', 'from__eq': '2019-01-01'})\n",
    "response2 = stockdata_from_repo(BithumbRepo(), request=request2, cache=True)\n",
    "\n",
    "request3 = build_stock_data_from_repo_request(\n",
    "    filters={'order__eq': 'ETC', 'from__eq': '2019-01-01'})\n",
    "response3 = stockdata_from_repo(BithumbRepo(), request=request3,cache=True)\n",
    "\n",
    "request4 = build_stock_data_from_repo_request(\n",
    "    filters={'order__eq': 'US500', 'from__eq': '2019-11-01'})\n",
    "response4 = stockdata_from_repo(FinanceRepo(), request=request4,cache=True)\n",
    "\n",
    "request5 = build_stock_data_from_repo_request(\n",
    "    filters={'order__eq': 'DOT', 'from__eq': '2019-01-01'})\n",
    "response5 = stockdata_from_repo(BithumbRepo(), request=request5,cache=True)\n",
    "\n",
    "stockdata1 = response.value\n",
    "stockdata2 = response2.value\n",
    "stockdata3 = response3.value\n",
    "stockdata4 = response4.value\n",
    "stockdata5 = response5.value\n",
    "\n",
    "strategy1 = Strategy(name='snp_big_stock', function=sma_big_stock_function,\n",
    "                    weight=3, options={'big_stock': stockdata4, 'rolling': 100})\n",
    "strategy2 = Strategy(name='sma_big_stock', function=sma_big_stock_function,\n",
    "                    weight=2, options={'big_stock': stockdata2, 'rolling': 90})\n",
    "strategy3 = Strategy(name='sma_self', function=sma_function,\n",
    "                    weight=1, options={'rolling': 10})\n",
    "greed_fear_df = get_greed_fear_index()\n",
    "strategy4 = Strategy(name='Greed_Fear_Index',function=greed_fear_index_function,\n",
    "                    weight=1, options={'greed_fear_index_data': greed_fear_df,'index_fear' : 20,'index_greed':60})\n",
    "strategy5 = Strategy(name='rsi_function',function=rsi_function,\n",
    "                    weight=0.5, options={'period': 15,'overbought_level' : 30,'oversold_level': 70})\n",
    "strategy6 = Strategy(name='rsi_big_stock_function',function=rsi_big_stock_function,\n",
    "                    weight=0.5, options={'big_stock':stockdata4, 'period': 15,'overbought_level' : 30,'oversold_level':70})\n",
    "strategy7 = Strategy(name='sma_multi_big_stock', function=sma_multi_big_stock_function,\n",
    "                    weight=1, options={'big_stock': stockdata4, 'rolling_list': [100,15]})\n",
    "strategy8 = Strategy(name='sma_multi_big_stock', function=sma_multi_big_stock_function,\n",
    "                    weight=1, options={'big_stock': stockdata2, 'rolling_list': [100,15]})\n"
   ]
  },
  {
   "cell_type": "code",
   "execution_count": 12,
   "id": "7a859682",
   "metadata": {},
   "outputs": [
    {
     "data": {
      "text/plain": [
       "StockData(symbol='US500', data=                   open         high          low        close      volume\n",
       "date                                                                      \n",
       "2019-11-01  3050.719971  3066.949951  3050.719971  3066.909912  3956290000\n",
       "2019-11-04  3078.959961  3085.199951  3074.870117  3078.270020  4178040000\n",
       "2019-11-05  3080.800049  3083.949951  3072.149902  3074.620117  4490590000\n",
       "2019-11-06  3075.100098  3078.340088  3065.889893  3076.780029  4465510000\n",
       "2019-11-07  3087.020020  3097.770020  3080.229980  3085.179932  4151990000\n",
       "...                 ...          ...          ...          ...         ...\n",
       "2023-04-13  4100.040039  4150.259766  4099.399902  4146.220215  3596590000\n",
       "2023-04-14  4140.109863  4163.189941  4113.200195  4137.640137  3575690000\n",
       "2023-04-17  4137.169922  4151.720215  4123.180176  4151.319824  3611180000\n",
       "2023-04-18  4164.259766  4169.479980  4140.359863  4154.870117  3536640000\n",
       "2023-04-19  4139.330078  4162.569824  4134.490234  4154.520020  3572560000\n",
       "\n",
       "[871 rows x 5 columns])"
      ]
     },
     "execution_count": 12,
     "metadata": {},
     "output_type": "execute_result"
    }
   ],
   "source": []
  },
  {
   "cell_type": "code",
   "execution_count": 181,
   "id": "6edbf130",
   "metadata": {},
   "outputs": [
    {
     "data": {
      "text/plain": [
       "date\n",
       "2019-01-01    0.000000\n",
       "2019-01-02    0.000000\n",
       "2019-01-03    0.000000\n",
       "2019-01-04    0.000000\n",
       "2019-01-05    0.000000\n",
       "                ...   \n",
       "2023-04-05    4.701043\n",
       "2023-04-06    4.701043\n",
       "2023-04-07    4.701043\n",
       "2023-04-08    4.701043\n",
       "2023-04-09    4.701043\n",
       "Freq: D, Name: total_profit, Length: 1560, dtype: float64"
      ]
     },
     "execution_count": 181,
     "metadata": {},
     "output_type": "execute_result"
    }
   ],
   "source": [
    "backtest = Backtest(strategy_list=[strategy1,strategy2,strategy3,strategy4,strategy5,strategy6,strategy7,strategy8], stockdata_list=[stockdata3,stockdata5])\n",
    "backtest_result = backtest_execute(backtest).value\n",
    "backtest_result.value\n",
    "df=backtest_result.value['total_profit'].expanding().sum()\n",
    "df"
   ]
  },
  {
   "cell_type": "code",
   "execution_count": 182,
   "id": "6be6a2b2",
   "metadata": {},
   "outputs": [
    {
     "data": {
      "text/plain": [
       "-0.096255488293015"
      ]
     },
     "execution_count": 182,
     "metadata": {},
     "output_type": "execute_result"
    }
   ],
   "source": [
    "backtest_result.value['total_profit'].min()"
   ]
  },
  {
   "cell_type": "code",
   "execution_count": 109,
   "id": "1f9d9da3",
   "metadata": {},
   "outputs": [],
   "source": [
    "backtest_result.value.to_csv('sample.csv')"
   ]
  },
  {
   "cell_type": "code",
   "execution_count": 171,
   "id": "e161e414",
   "metadata": {},
   "outputs": [],
   "source": [
    "def calculate_rsi(data, period):\n",
    "    delta = data.diff().dropna()\n",
    "    gain = delta.where(delta > 0, 0)\n",
    "    loss = -delta.where(delta < 0, 0)\n",
    "\n",
    "    avg_gain = gain.rolling(window=period).mean()\n",
    "    avg_loss = loss.rolling(window=period).mean()\n",
    "\n",
    "    rs = avg_gain / avg_loss\n",
    "    rsi = 100 - (100 / (1 + rs))\n",
    "    return rsi\n",
    "\n",
    "\n",
    "df=stockdata5.data\n",
    "df['RSI']=calculate_rsi(df['close'],14)\n",
    "def _rsi_function(r):\n",
    "    if r <= 70 and r > 70:\n",
    "        return (StrategyResultColumnType.BUY, 1)\n",
    "    elif r >= 30 and r < 30:\n",
    "        return (StrategyResultColumnType.SELL, 1)\n",
    "    else:\n",
    "        return (StrategyResultColumnType.KEEP, 1)\n",
    "result=df.apply(lambda r:_rsi_function(r['close']),axis=1)"
   ]
  },
  {
   "cell_type": "code",
   "execution_count": 12,
   "id": "51d0589a",
   "metadata": {},
   "outputs": [
    {
     "name": "stdout",
     "output_type": "stream",
     "text": [
      "The autoreload extension is already loaded. To reload it, use:\n",
      "  %reload_ext autoreload\n"
     ]
    },
    {
     "data": {
      "text/html": [
       "<div>\n",
       "<style scoped>\n",
       "    .dataframe tbody tr th:only-of-type {\n",
       "        vertical-align: middle;\n",
       "    }\n",
       "\n",
       "    .dataframe tbody tr th {\n",
       "        vertical-align: top;\n",
       "    }\n",
       "\n",
       "    .dataframe thead th {\n",
       "        text-align: right;\n",
       "    }\n",
       "</style>\n",
       "<table border=\"1\" class=\"dataframe\">\n",
       "  <thead>\n",
       "    <tr style=\"text-align: right;\">\n",
       "      <th></th>\n",
       "      <th>marketcap</th>\n",
       "    </tr>\n",
       "    <tr>\n",
       "      <th>date</th>\n",
       "      <th></th>\n",
       "    </tr>\n",
       "  </thead>\n",
       "  <tbody>\n",
       "    <tr>\n",
       "      <th>2013-04-28</th>\n",
       "      <td>1.500518e+09</td>\n",
       "    </tr>\n",
       "    <tr>\n",
       "      <th>2013-04-29</th>\n",
       "      <td>1.575032e+09</td>\n",
       "    </tr>\n",
       "    <tr>\n",
       "      <th>2013-04-30</th>\n",
       "      <td>1.501657e+09</td>\n",
       "    </tr>\n",
       "    <tr>\n",
       "      <th>2013-05-01</th>\n",
       "      <td>1.298952e+09</td>\n",
       "    </tr>\n",
       "    <tr>\n",
       "      <th>2013-05-02</th>\n",
       "      <td>1.148668e+09</td>\n",
       "    </tr>\n",
       "    <tr>\n",
       "      <th>...</th>\n",
       "      <td>...</td>\n",
       "    </tr>\n",
       "    <tr>\n",
       "      <th>2023-04-16</th>\n",
       "      <td>5.869698e+11</td>\n",
       "    </tr>\n",
       "    <tr>\n",
       "      <th>2023-04-17</th>\n",
       "      <td>5.862682e+11</td>\n",
       "    </tr>\n",
       "    <tr>\n",
       "      <th>2023-04-18</th>\n",
       "      <td>5.699581e+11</td>\n",
       "    </tr>\n",
       "    <tr>\n",
       "      <th>2023-04-19</th>\n",
       "      <td>5.877302e+11</td>\n",
       "    </tr>\n",
       "    <tr>\n",
       "      <th>2023-04-20</th>\n",
       "      <td>5.587965e+11</td>\n",
       "    </tr>\n",
       "  </tbody>\n",
       "</table>\n",
       "<p>3642 rows × 1 columns</p>\n",
       "</div>"
      ],
      "text/plain": [
       "               marketcap\n",
       "date                    \n",
       "2013-04-28  1.500518e+09\n",
       "2013-04-29  1.575032e+09\n",
       "2013-04-30  1.501657e+09\n",
       "2013-05-01  1.298952e+09\n",
       "2013-05-02  1.148668e+09\n",
       "...                  ...\n",
       "2023-04-16  5.869698e+11\n",
       "2023-04-17  5.862682e+11\n",
       "2023-04-18  5.699581e+11\n",
       "2023-04-19  5.877302e+11\n",
       "2023-04-20  5.587965e+11\n",
       "\n",
       "[3642 rows x 1 columns]"
      ]
     },
     "execution_count": 12,
     "metadata": {},
     "output_type": "execute_result"
    }
   ],
   "source": [
    "%load_ext autoreload\n",
    "%autoreload 2\n",
    "from backtest.request.selector_reference_from_repo import build_selector_reference_from_repo_request\n",
    "from backtest.repository.webrepo.crypto.coingecko_repo import CoinGeckoRepo\n",
    "from backtest.use_cases.selector_reference_from_repo import selector_reference_from_repo\n",
    "\n",
    "request = build_selector_reference_from_repo_request(filters={'symbol__eq':'BTC'})\n",
    "result = selector_reference_from_repo(CoinGeckoRepo(),request,cache=True)\n",
    "selector_reference=result.value\n",
    "selector_reference.data"
   ]
  }
 ],
 "metadata": {
  "kernelspec": {
   "display_name": "env",
   "language": "python",
   "name": "python3"
  },
  "language_info": {
   "codemirror_mode": {
    "name": "ipython",
    "version": 3
   },
   "file_extension": ".py",
   "mimetype": "text/x-python",
   "name": "python",
   "nbconvert_exporter": "python",
   "pygments_lexer": "ipython3",
   "version": "3.11.2"
  },
  "vscode": {
   "interpreter": {
    "hash": "2d88cf340543b6ce74570125ca645878a72cf7dc5fb68c3915a05050aa8d68cf"
   }
  }
 },
 "nbformat": 4,
 "nbformat_minor": 5
}
