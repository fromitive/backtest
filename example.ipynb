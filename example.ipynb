{
 "cells": [
  {
   "cell_type": "code",
   "execution_count": 96,
   "id": "c6fe7a95",
   "metadata": {},
   "outputs": [
    {
     "name": "stdout",
     "output_type": "stream",
     "text": [
      "The autoreload extension is already loaded. To reload it, use:\n",
      "  %reload_ext autoreload\n"
     ]
    },
    {
     "data": {
      "text/html": [
       "<div>\n",
       "<style scoped>\n",
       "    .dataframe tbody tr th:only-of-type {\n",
       "        vertical-align: middle;\n",
       "    }\n",
       "\n",
       "    .dataframe tbody tr th {\n",
       "        vertical-align: top;\n",
       "    }\n",
       "\n",
       "    .dataframe thead th {\n",
       "        text-align: right;\n",
       "    }\n",
       "</style>\n",
       "<table border=\"1\" class=\"dataframe\">\n",
       "  <thead>\n",
       "    <tr style=\"text-align: right;\">\n",
       "      <th></th>\n",
       "      <th>total_profit</th>\n",
       "      <th>stock_bucket</th>\n",
       "    </tr>\n",
       "    <tr>\n",
       "      <th>date</th>\n",
       "      <th></th>\n",
       "      <th></th>\n",
       "    </tr>\n",
       "  </thead>\n",
       "  <tbody>\n",
       "    <tr>\n",
       "      <th>2018-01-01</th>\n",
       "      <td>0</td>\n",
       "      <td>[(btc, 2018-01-01 00:00:00), (btc, 2018-01-01 ...</td>\n",
       "    </tr>\n",
       "    <tr>\n",
       "      <th>2018-01-02</th>\n",
       "      <td>0</td>\n",
       "      <td>[(btc, 2018-01-01 00:00:00), (btc, 2018-01-02 ...</td>\n",
       "    </tr>\n",
       "    <tr>\n",
       "      <th>2018-01-03</th>\n",
       "      <td>0</td>\n",
       "      <td>[(btc, 2018-01-01 00:00:00), (btc, 2018-01-02 ...</td>\n",
       "    </tr>\n",
       "    <tr>\n",
       "      <th>2018-01-04</th>\n",
       "      <td>0</td>\n",
       "      <td>[(btc, 2018-01-01 00:00:00), (btc, 2018-01-02 ...</td>\n",
       "    </tr>\n",
       "    <tr>\n",
       "      <th>2018-01-05</th>\n",
       "      <td>0</td>\n",
       "      <td>[(btc, 2018-01-01 00:00:00), (btc, 2018-01-02 ...</td>\n",
       "    </tr>\n",
       "    <tr>\n",
       "      <th>...</th>\n",
       "      <td>...</td>\n",
       "      <td>...</td>\n",
       "    </tr>\n",
       "    <tr>\n",
       "      <th>2023-02-17</th>\n",
       "      <td>0</td>\n",
       "      <td>[(btc, 2018-01-01 00:00:00), (btc, 2018-01-02 ...</td>\n",
       "    </tr>\n",
       "    <tr>\n",
       "      <th>2023-02-18</th>\n",
       "      <td>0</td>\n",
       "      <td>[(btc, 2018-01-01 00:00:00), (btc, 2018-01-02 ...</td>\n",
       "    </tr>\n",
       "    <tr>\n",
       "      <th>2023-02-19</th>\n",
       "      <td>0</td>\n",
       "      <td>[(btc, 2018-01-01 00:00:00), (btc, 2018-01-02 ...</td>\n",
       "    </tr>\n",
       "    <tr>\n",
       "      <th>2023-02-20</th>\n",
       "      <td>0</td>\n",
       "      <td>[(btc, 2018-01-01 00:00:00), (btc, 2018-01-02 ...</td>\n",
       "    </tr>\n",
       "    <tr>\n",
       "      <th>2023-02-21</th>\n",
       "      <td>0</td>\n",
       "      <td>[(btc, 2018-01-01 00:00:00), (btc, 2018-01-02 ...</td>\n",
       "    </tr>\n",
       "  </tbody>\n",
       "</table>\n",
       "<p>1878 rows × 2 columns</p>\n",
       "</div>"
      ],
      "text/plain": [
       "            total_profit                                       stock_bucket\n",
       "date                                                                       \n",
       "2018-01-01             0  [(btc, 2018-01-01 00:00:00), (btc, 2018-01-01 ...\n",
       "2018-01-02             0  [(btc, 2018-01-01 00:00:00), (btc, 2018-01-02 ...\n",
       "2018-01-03             0  [(btc, 2018-01-01 00:00:00), (btc, 2018-01-02 ...\n",
       "2018-01-04             0  [(btc, 2018-01-01 00:00:00), (btc, 2018-01-02 ...\n",
       "2018-01-05             0  [(btc, 2018-01-01 00:00:00), (btc, 2018-01-02 ...\n",
       "...                  ...                                                ...\n",
       "2023-02-17             0  [(btc, 2018-01-01 00:00:00), (btc, 2018-01-02 ...\n",
       "2023-02-18             0  [(btc, 2018-01-01 00:00:00), (btc, 2018-01-02 ...\n",
       "2023-02-19             0  [(btc, 2018-01-01 00:00:00), (btc, 2018-01-02 ...\n",
       "2023-02-20             0  [(btc, 2018-01-01 00:00:00), (btc, 2018-01-02 ...\n",
       "2023-02-21             0  [(btc, 2018-01-01 00:00:00), (btc, 2018-01-02 ...\n",
       "\n",
       "[1878 rows x 2 columns]"
      ]
     },
     "execution_count": 96,
     "metadata": {},
     "output_type": "execute_result"
    }
   ],
   "source": [
    "%load_ext autoreload\n",
    "%autoreload 2\n",
    "from backtest.repository.webrepo.bithumb_repo import BithumbRepo\n",
    "from backtest.repository.webrepo.upbit_repo import UpbitRepo\n",
    "from backtest.repository.webrepo.binance_repo import BinanceRepo\n",
    "from backtest.use_cases.stockdata_from_repo import stockdata_from_repo\n",
    "from backtest.request.stockdata_from_repo import build_stock_data_from_repo_request\n",
    "from backtest.domains.strategy import Strategy\n",
    "from backtest.domains.strategy_result import StrategyResult,StrategyResultColumnType\n",
    "from backtest.domains.backtest import Backtest\n",
    "from backtest.use_cases.strategy_execute import basic_function\n",
    "from backtest.use_cases.backtest_execute import backtest_execute\n",
    "\n",
    "import pandas as pd\n",
    "\n",
    "def basic_function(data: StockData, weight: int):\n",
    "    response = StrategyResult(value=pd.DataFrame(\n",
    "        index=data.data.index, columns=[data.symbol]))\n",
    "    response.value[data.symbol] = [(\n",
    "        StrategyResultColumnType.KEEP, weight)] * len(data)\n",
    "    return response\n",
    "\n",
    "\n",
    "request = build_stock_data_from_repo_request(\n",
    "    filters={'order__eq': 'btc', 'from__eq': '2018-01-01'})\n",
    "response = stockdata_from_repo(BithumbRepo(), request=request)\n",
    "stockdata = response.value\n",
    "strategy = Strategy(name='basic_strategy', function=basic_function,weight=10)\n",
    "backtest = Backtest(strategy_list=[strategy], stockdata_list=[stockdata])\n",
    "backtest_result = backtest_execute(backtest)\n",
    "backtest_result.value.value\n"
   ]
  },
  {
   "cell_type": "code",
   "execution_count": 91,
   "id": "6035b004",
   "metadata": {},
   "outputs": [
    {
     "name": "stdout",
     "output_type": "stream",
     "text": [
      "{<StrategyResultColumnType.KEEP: 3>: 300, <StrategyResultColumnType.SELL: 2>: 0, <StrategyResultColumnType.BUY: 1>: 0}\n",
      "{<StrategyResultColumnType.KEEP: 3>: 0, <StrategyResultColumnType.SELL: 2>: 0, <StrategyResultColumnType.BUY: 1>: 300}\n",
      "{<StrategyResultColumnType.KEEP: 3>: 0, <StrategyResultColumnType.SELL: 2>: 300, <StrategyResultColumnType.BUY: 1>: 0}\n",
      "{<StrategyResultColumnType.KEEP: 3>: 0, <StrategyResultColumnType.SELL: 2>: 300, <StrategyResultColumnType.BUY: 1>: 0}\n",
      "{<StrategyResultColumnType.KEEP: 3>: 0, <StrategyResultColumnType.SELL: 2>: 0, <StrategyResultColumnType.BUY: 1>: 300}\n"
     ]
    },
    {
     "data": {
      "text/plain": [
       "StockData(symbol='teststock1', data=date\n",
       "2022-01-01    StrategyResultColumnType.KEEP\n",
       "2022-01-02     StrategyResultColumnType.BUY\n",
       "2022-01-03    StrategyResultColumnType.SELL\n",
       "2022-01-04    StrategyResultColumnType.SELL\n",
       "2022-01-05     StrategyResultColumnType.BUY\n",
       "dtype: object)"
      ]
     },
     "execution_count": 91,
     "metadata": {},
     "output_type": "execute_result"
    }
   ],
   "source": [
    "def sum_strategy(series : pd.Series):\n",
    "    total_result = {StrategyResultColumnType.KEEP:0,\n",
    "                    StrategyResultColumnType.SELL:0,\n",
    "                    StrategyResultColumnType.BUY:0}\n",
    "    for idx in series.index:\n",
    "        type,weight=series[idx]\n",
    "        total_result[type]+=weight\n",
    "    print(total_result)\n",
    "    return max(total_result,key=total_result.get)\n",
    "\n",
    "\n",
    "strate=strategy_total_result.apply(\n",
    "    lambda row: sum_strategy(row), axis=1)\n",
    "#            for column in strategy_total_result.columns:\n",
    "#                strategy_total_result[column] = strategy_total_result[column].fillna(\n",
    "#                    {i: (StrategyResultColumnType.KEEP, 0) for i in strategy_total_result.index})\n"
   ]
  },
  {
   "cell_type": "code",
   "execution_count": 12,
   "id": "d651413b",
   "metadata": {},
   "outputs": [
    {
     "data": {
      "text/html": [
       "<div>\n",
       "<style scoped>\n",
       "    .dataframe tbody tr th:only-of-type {\n",
       "        vertical-align: middle;\n",
       "    }\n",
       "\n",
       "    .dataframe tbody tr th {\n",
       "        vertical-align: top;\n",
       "    }\n",
       "\n",
       "    .dataframe thead th {\n",
       "        text-align: right;\n",
       "    }\n",
       "</style>\n",
       "<table border=\"1\" class=\"dataframe\">\n",
       "  <thead>\n",
       "    <tr style=\"text-align: right;\">\n",
       "      <th></th>\n",
       "      <th>strategy1</th>\n",
       "    </tr>\n",
       "    <tr>\n",
       "      <th>date</th>\n",
       "      <th></th>\n",
       "    </tr>\n",
       "  </thead>\n",
       "  <tbody>\n",
       "    <tr>\n",
       "      <th>2022-01-01</th>\n",
       "      <td>(StrategyResultColumnType.KEEP, 100)</td>\n",
       "    </tr>\n",
       "    <tr>\n",
       "      <th>2022-01-02</th>\n",
       "      <td>(StrategyResultColumnType.BUY, 100)</td>\n",
       "    </tr>\n",
       "    <tr>\n",
       "      <th>2022-01-03</th>\n",
       "      <td>(StrategyResultColumnType.SELL, 100)</td>\n",
       "    </tr>\n",
       "    <tr>\n",
       "      <th>2022-01-04</th>\n",
       "      <td>(StrategyResultColumnType.SELL, 100)</td>\n",
       "    </tr>\n",
       "    <tr>\n",
       "      <th>2022-01-05</th>\n",
       "      <td>(StrategyResultColumnType.BUY, 100)</td>\n",
       "    </tr>\n",
       "  </tbody>\n",
       "</table>\n",
       "</div>"
      ],
      "text/plain": [
       "                                       strategy1\n",
       "date                                            \n",
       "2022-01-01  (StrategyResultColumnType.KEEP, 100)\n",
       "2022-01-02   (StrategyResultColumnType.BUY, 100)\n",
       "2022-01-03  (StrategyResultColumnType.SELL, 100)\n",
       "2022-01-04  (StrategyResultColumnType.SELL, 100)\n",
       "2022-01-05   (StrategyResultColumnType.BUY, 100)"
      ]
     },
     "execution_count": 12,
     "metadata": {},
     "output_type": "execute_result"
    }
   ],
   "source": [
    "\n",
    "strategy_total_result\n",
    "for column in strategy_total_result.columns:\n",
    "    strategy_total_result[column] = strategy_total_result[column].fillna(\n",
    "        {i: (StrategyResultColumnType.KEEP, 0) for i in strategy_total_result.index})\n",
    "strategy_total_result\n"
   ]
  },
  {
   "cell_type": "code",
   "execution_count": 3,
   "id": "dd726034",
   "metadata": {},
   "outputs": [
    {
     "data": {
      "text/plain": [
       "StockData(symbol='', data=                         open      high       low     close         volume\n",
       "date                                                                      \n",
       "2017-12-02 09:00:00  10775.04  11190.00  10620.00  10890.01    4765.439757\n",
       "2017-12-03 09:00:00  10902.69  11825.00  10500.00  11165.41    5346.636524\n",
       "2017-12-04 09:00:00  11165.41  11600.00  10802.00  11579.00    4663.424562\n",
       "2017-12-05 09:00:00  11571.03  11853.00  11447.68  11699.99    5550.732055\n",
       "2017-12-06 09:00:00  11699.99  13615.23  11665.58  13550.05    6707.946319\n",
       "...                       ...       ...       ...       ...            ...\n",
       "2023-02-01 09:00:00  23125.13  23812.66  22760.23  23732.66  310790.422710\n",
       "2023-02-02 09:00:00  23731.41  24255.00  23363.27  23488.94  364177.207510\n",
       "2023-02-03 09:00:00  23489.33  23715.70  23204.62  23431.90  332571.029040\n",
       "2023-02-04 09:00:00  23431.90  23587.78  23253.96  23326.84  166126.472950\n",
       "2023-02-05 09:00:00  23327.66  23390.00  23230.00  23371.89   34702.823180\n",
       "\n",
       "[1893 rows x 5 columns])"
      ]
     },
     "execution_count": 3,
     "metadata": {},
     "output_type": "execute_result"
    }
   ],
   "source": [
    "stockdata_binance.value"
   ]
  },
  {
   "cell_type": "code",
   "execution_count": 4,
   "id": "6a6e9901",
   "metadata": {},
   "outputs": [
    {
     "data": {
      "text/plain": [
       "StockData(symbol='', data=                           open        high         low       close  \\\n",
       "date                                                                  \n",
       "2017-12-01 09:00:00  11935000.0  12680000.0  11201000.0  12532000.0   \n",
       "2017-12-02 09:00:00  12532000.0  13180000.0  12350000.0  12971000.0   \n",
       "2017-12-03 09:00:00  12970000.0  13529000.0  12840000.0  13128000.0   \n",
       "2017-12-04 09:00:00  13120000.0  13688000.0  13119000.0  13684000.0   \n",
       "2017-12-05 09:00:00  13683000.0  14794000.0  13612000.0  14645000.0   \n",
       "...                         ...         ...         ...         ...   \n",
       "2023-02-01 09:00:00  29052000.0  29740000.0  28626000.0  29620000.0   \n",
       "2023-02-02 09:00:00  29599000.0  30285000.0  29530000.0  29600000.0   \n",
       "2023-02-03 09:00:00  29601000.0  29734000.0  29287000.0  29432000.0   \n",
       "2023-02-04 09:00:00  29432000.0  29650000.0  29349000.0  29420000.0   \n",
       "2023-02-05 09:00:00  29398000.0  29528000.0  29350000.0  29450000.0   \n",
       "\n",
       "                           volume  \n",
       "date                               \n",
       "2017-12-01 09:00:00  30105.442879  \n",
       "2017-12-02 09:00:00  29070.165894  \n",
       "2017-12-03 09:00:00  26158.443220  \n",
       "2017-12-04 09:00:00  23034.669188  \n",
       "2017-12-05 09:00:00  27842.824832  \n",
       "...                           ...  \n",
       "2023-02-01 09:00:00   5637.916748  \n",
       "2023-02-02 09:00:00   6298.033361  \n",
       "2023-02-03 09:00:00   4743.686426  \n",
       "2023-02-04 09:00:00   2924.162830  \n",
       "2023-02-05 09:00:00    869.440154  \n",
       "\n",
       "[1893 rows x 5 columns])"
      ]
     },
     "execution_count": 4,
     "metadata": {},
     "output_type": "execute_result"
    }
   ],
   "source": [
    "stockdata_upbit.value"
   ]
  },
  {
   "cell_type": "code",
   "execution_count": 5,
   "id": "6cf16aa4",
   "metadata": {},
   "outputs": [],
   "source": [
    "# strategy function 제작\n",
    "import pandas as pd\n",
    "from backtest.domains.strategy_result import StrategyResult, StrategyResultColumnType\n",
    "from backtest.domains.strategy import Strategy\n",
    "\n",
    "def strategy_function1(strategy: Strategy):\n",
    "    response = StrategyResult(value=pd.DataFrame(\n",
    "        index=strategy.data.index, columns=[strategy.name]))\n",
    "    response.value[strategy.name] = [(\n",
    "        StrategyResultColumnType.SELL, strategy.weight)] * len(strategy)\n",
    "    return response"
   ]
  },
  {
   "cell_type": "code",
   "execution_count": 6,
   "id": "9f054e67",
   "metadata": {},
   "outputs": [],
   "source": [
    "from backtest.use_cases.strategy_execute import strategy_execute\n",
    "from backtest.use_cases.strategy_execute import _basic_function\n",
    "from backtest.domains.strategy import Strategy,StrategyType\n",
    "\n",
    "strategy1 = Strategy(name='basic_strategy',type=StrategyType.with_stockdata,data=stockdata_upbit.value,weight=100)\n",
    "strategy2 = Strategy(name='basic_strategy2',type=StrategyType.with_stockdata,data=stockdata_upbit.value,weight=300)\n",
    "\n",
    "strategy_result1 = strategy_execute(strategy1)\n",
    "strategy_result2 = strategy_execute(strategy2,strategy_fucntion=strategy_function1)"
   ]
  },
  {
   "cell_type": "code",
   "execution_count": 7,
   "id": "ec76ef56",
   "metadata": {},
   "outputs": [
    {
     "data": {
      "text/plain": [
       "StrategyResult(value=                                           basic_strategy\n",
       "date                                                     \n",
       "2017-12-01 09:00:00  (StrategyResultColumnType.KEEP, 100)\n",
       "2017-12-02 09:00:00  (StrategyResultColumnType.KEEP, 100)\n",
       "2017-12-03 09:00:00  (StrategyResultColumnType.KEEP, 100)\n",
       "2017-12-04 09:00:00  (StrategyResultColumnType.KEEP, 100)\n",
       "2017-12-05 09:00:00  (StrategyResultColumnType.KEEP, 100)\n",
       "...                                                   ...\n",
       "2023-02-01 09:00:00  (StrategyResultColumnType.KEEP, 100)\n",
       "2023-02-02 09:00:00  (StrategyResultColumnType.KEEP, 100)\n",
       "2023-02-03 09:00:00  (StrategyResultColumnType.KEEP, 100)\n",
       "2023-02-04 09:00:00  (StrategyResultColumnType.KEEP, 100)\n",
       "2023-02-05 09:00:00  (StrategyResultColumnType.KEEP, 100)\n",
       "\n",
       "[1893 rows x 1 columns])"
      ]
     },
     "execution_count": 7,
     "metadata": {},
     "output_type": "execute_result"
    }
   ],
   "source": [
    "strategy_result1.value\n",
    "# StrategyResultColumnType 종류\n",
    "# KEEP, SELL, BUY"
   ]
  },
  {
   "cell_type": "code",
   "execution_count": 74,
   "id": "81d4c18f",
   "metadata": {},
   "outputs": [
    {
     "ename": "NameError",
     "evalue": "name 'strategy_result2' is not defined",
     "output_type": "error",
     "traceback": [
      "\u001b[1;31m---------------------------------------------------------------------------\u001b[0m",
      "\u001b[1;31mNameError\u001b[0m                                 Traceback (most recent call last)",
      "Cell \u001b[1;32mIn[74], line 1\u001b[0m\n\u001b[1;32m----> 1\u001b[0m strategy_result2\u001b[39m.\u001b[39mvalue\n",
      "\u001b[1;31mNameError\u001b[0m: name 'strategy_result2' is not defined"
     ]
    }
   ],
   "source": [
    "strategy_result2.value"
   ]
  },
  {
   "cell_type": "code",
   "execution_count": 73,
   "id": "9a15a0ed",
   "metadata": {},
   "outputs": [
    {
     "data": {
      "text/html": [
       "<div>\n",
       "<style scoped>\n",
       "    .dataframe tbody tr th:only-of-type {\n",
       "        vertical-align: middle;\n",
       "    }\n",
       "\n",
       "    .dataframe tbody tr th {\n",
       "        vertical-align: top;\n",
       "    }\n",
       "\n",
       "    .dataframe thead th {\n",
       "        text-align: right;\n",
       "    }\n",
       "</style>\n",
       "<table border=\"1\" class=\"dataframe\">\n",
       "  <thead>\n",
       "    <tr style=\"text-align: right;\">\n",
       "      <th></th>\n",
       "      <th>A</th>\n",
       "      <th>B</th>\n",
       "      <th>C</th>\n",
       "    </tr>\n",
       "  </thead>\n",
       "  <tbody>\n",
       "    <tr>\n",
       "      <th>0</th>\n",
       "      <td>1</td>\n",
       "      <td>a</td>\n",
       "      <td>a</td>\n",
       "    </tr>\n",
       "    <tr>\n",
       "      <th>1</th>\n",
       "      <td>2</td>\n",
       "      <td>b</td>\n",
       "      <td>ab</td>\n",
       "    </tr>\n",
       "    <tr>\n",
       "      <th>2</th>\n",
       "      <td>3</td>\n",
       "      <td>c</td>\n",
       "      <td>abc</td>\n",
       "    </tr>\n",
       "  </tbody>\n",
       "</table>\n",
       "</div>"
      ],
      "text/plain": [
       "   A  B    C\n",
       "0  1  a    a\n",
       "1  2  b   ab\n",
       "2  3  c  abc"
      ]
     },
     "execution_count": 73,
     "metadata": {},
     "output_type": "execute_result"
    }
   ],
   "source": [
    "#https: // stackoverflow.com/questions/31458794/python-using-iterrows-to-create-columns\n",
    "df = pd.DataFrame({'A': [1, 2, 3], 'B': ['a', 'b', 'c']})\n",
    "total_string=''\n",
    "for index,row in df.iterrows():\n",
    "    total_string+=row['B']\n",
    "    df.loc[index,'C'] = total_string\n",
    "\n",
    "df\n"
   ]
  },
  {
   "cell_type": "code",
   "execution_count": null,
   "id": "9da1490f",
   "metadata": {},
   "outputs": [],
   "source": []
  }
 ],
 "metadata": {
  "kernelspec": {
   "display_name": "env",
   "language": "python",
   "name": "python3"
  },
  "language_info": {
   "codemirror_mode": {
    "name": "ipython",
    "version": 3
   },
   "file_extension": ".py",
   "mimetype": "text/x-python",
   "name": "python",
   "nbconvert_exporter": "python",
   "pygments_lexer": "ipython3",
   "version": "3.10.5"
  },
  "vscode": {
   "interpreter": {
    "hash": "45e11393f9caba1e30f1344de087132ad1c525c5ebca6d7f819aed5f910b619d"
   }
  }
 },
 "nbformat": 4,
 "nbformat_minor": 5
}
