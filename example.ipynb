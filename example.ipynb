{
 "cells": [
  {
   "cell_type": "code",
   "execution_count": 15,
   "id": "c6fe7a95",
   "metadata": {},
   "outputs": [
    {
     "name": "stdout",
     "output_type": "stream",
     "text": [
      "The autoreload extension is already loaded. To reload it, use:\n",
      "  %reload_ext autoreload\n"
     ]
    },
    {
     "data": {
      "text/html": [
       "<div>\n",
       "<style scoped>\n",
       "    .dataframe tbody tr th:only-of-type {\n",
       "        vertical-align: middle;\n",
       "    }\n",
       "\n",
       "    .dataframe tbody tr th {\n",
       "        vertical-align: top;\n",
       "    }\n",
       "\n",
       "    .dataframe thead th {\n",
       "        text-align: right;\n",
       "    }\n",
       "</style>\n",
       "<table border=\"1\" class=\"dataframe\">\n",
       "  <thead>\n",
       "    <tr style=\"text-align: right;\">\n",
       "      <th></th>\n",
       "      <th>strategy0</th>\n",
       "      <th>strategy1</th>\n",
       "      <th>strategy2</th>\n",
       "      <th>strategy3</th>\n",
       "      <th>strategy4</th>\n",
       "    </tr>\n",
       "    <tr>\n",
       "      <th>date</th>\n",
       "      <th></th>\n",
       "      <th></th>\n",
       "      <th></th>\n",
       "      <th></th>\n",
       "      <th></th>\n",
       "    </tr>\n",
       "  </thead>\n",
       "  <tbody>\n",
       "    <tr>\n",
       "      <th>2022-01-01</th>\n",
       "      <td>(StrategyResultColumnType.KEEP, 100)</td>\n",
       "      <td>(StrategyResultColumnType.KEEP, 100)</td>\n",
       "      <td>(StrategyResultColumnType.KEEP, 100)</td>\n",
       "      <td>(StrategyResultColumnType.KEEP, 100)</td>\n",
       "      <td>(StrategyResultColumnType.KEEP, 100)</td>\n",
       "    </tr>\n",
       "    <tr>\n",
       "      <th>2022-01-02</th>\n",
       "      <td>(StrategyResultColumnType.BUY, 100)</td>\n",
       "      <td>(StrategyResultColumnType.BUY, 100)</td>\n",
       "      <td>(StrategyResultColumnType.BUY, 100)</td>\n",
       "      <td>(StrategyResultColumnType.BUY, 100)</td>\n",
       "      <td>(StrategyResultColumnType.BUY, 100)</td>\n",
       "    </tr>\n",
       "    <tr>\n",
       "      <th>2022-01-03</th>\n",
       "      <td>(StrategyResultColumnType.SELL, 100)</td>\n",
       "      <td>(StrategyResultColumnType.SELL, 100)</td>\n",
       "      <td>(StrategyResultColumnType.SELL, 100)</td>\n",
       "      <td>(StrategyResultColumnType.SELL, 100)</td>\n",
       "      <td>(StrategyResultColumnType.SELL, 100)</td>\n",
       "    </tr>\n",
       "    <tr>\n",
       "      <th>2022-01-04</th>\n",
       "      <td>(StrategyResultColumnType.SELL, 100)</td>\n",
       "      <td>(StrategyResultColumnType.SELL, 100)</td>\n",
       "      <td>(StrategyResultColumnType.SELL, 100)</td>\n",
       "      <td>(StrategyResultColumnType.SELL, 100)</td>\n",
       "      <td>(StrategyResultColumnType.SELL, 100)</td>\n",
       "    </tr>\n",
       "    <tr>\n",
       "      <th>2022-01-05</th>\n",
       "      <td>(StrategyResultColumnType.BUY, 100)</td>\n",
       "      <td>(StrategyResultColumnType.BUY, 100)</td>\n",
       "      <td>(StrategyResultColumnType.BUY, 100)</td>\n",
       "      <td>(StrategyResultColumnType.BUY, 100)</td>\n",
       "      <td>(StrategyResultColumnType.BUY, 100)</td>\n",
       "    </tr>\n",
       "  </tbody>\n",
       "</table>\n",
       "</div>"
      ],
      "text/plain": [
       "                                       strategy0  \\\n",
       "date                                               \n",
       "2022-01-01  (StrategyResultColumnType.KEEP, 100)   \n",
       "2022-01-02   (StrategyResultColumnType.BUY, 100)   \n",
       "2022-01-03  (StrategyResultColumnType.SELL, 100)   \n",
       "2022-01-04  (StrategyResultColumnType.SELL, 100)   \n",
       "2022-01-05   (StrategyResultColumnType.BUY, 100)   \n",
       "\n",
       "                                       strategy1  \\\n",
       "date                                               \n",
       "2022-01-01  (StrategyResultColumnType.KEEP, 100)   \n",
       "2022-01-02   (StrategyResultColumnType.BUY, 100)   \n",
       "2022-01-03  (StrategyResultColumnType.SELL, 100)   \n",
       "2022-01-04  (StrategyResultColumnType.SELL, 100)   \n",
       "2022-01-05   (StrategyResultColumnType.BUY, 100)   \n",
       "\n",
       "                                       strategy2  \\\n",
       "date                                               \n",
       "2022-01-01  (StrategyResultColumnType.KEEP, 100)   \n",
       "2022-01-02   (StrategyResultColumnType.BUY, 100)   \n",
       "2022-01-03  (StrategyResultColumnType.SELL, 100)   \n",
       "2022-01-04  (StrategyResultColumnType.SELL, 100)   \n",
       "2022-01-05   (StrategyResultColumnType.BUY, 100)   \n",
       "\n",
       "                                       strategy3  \\\n",
       "date                                               \n",
       "2022-01-01  (StrategyResultColumnType.KEEP, 100)   \n",
       "2022-01-02   (StrategyResultColumnType.BUY, 100)   \n",
       "2022-01-03  (StrategyResultColumnType.SELL, 100)   \n",
       "2022-01-04  (StrategyResultColumnType.SELL, 100)   \n",
       "2022-01-05   (StrategyResultColumnType.BUY, 100)   \n",
       "\n",
       "                                       strategy4  \n",
       "date                                              \n",
       "2022-01-01  (StrategyResultColumnType.KEEP, 100)  \n",
       "2022-01-02   (StrategyResultColumnType.BUY, 100)  \n",
       "2022-01-03  (StrategyResultColumnType.SELL, 100)  \n",
       "2022-01-04  (StrategyResultColumnType.SELL, 100)  \n",
       "2022-01-05   (StrategyResultColumnType.BUY, 100)  "
      ]
     },
     "execution_count": 15,
     "metadata": {},
     "output_type": "execute_result"
    }
   ],
   "source": [
    "%load_ext autoreload\n",
    "%autoreload 2\n",
    "from backtest.domains.strategy_result import StrategyResult,StrategyResultColumnType\n",
    "import pandas as pd\n",
    "# stockdata 불러오기 \n",
    "def strategy_result_data(name='strategy1'):\n",
    "    sample_dict = {'date': ['2022-01-01', '2022-01-02', '2022-01-03', '2022-01-04', '2022-01-05'],\n",
    "                   name: [(StrategyResultColumnType.KEEP, 100),\n",
    "                                 (StrategyResultColumnType.BUY, 100),\n",
    "                                 (StrategyResultColumnType.SELL, 100),\n",
    "                                 (StrategyResultColumnType.SELL, 100),\n",
    "                                 (StrategyResultColumnType.BUY, 100),]}\n",
    "    return StrategyResult.from_dict(sample_dict, target='ALL')\n",
    "strategy_results = []\n",
    "for i in range(5):\n",
    "    strategy_results.append(strategy_result_data('strategy{}'.format(i)))\n",
    "strategy_total_result = pd.DataFrame(index=pd.DatetimeIndex([]))\n",
    "for strategy_result in strategy_results:\n",
    "    strategy_total_result = strategy_total_result.join(strategy_result.value, how='outer')\n",
    "\n",
    "strategy_total_result\n"
   ]
  },
  {
   "cell_type": "code",
   "execution_count": 21,
   "id": "6035b004",
   "metadata": {},
   "outputs": [
    {
     "ename": "NameError",
     "evalue": "name 'sum_strategy' is not defined",
     "output_type": "error",
     "traceback": [
      "\u001b[1;31m---------------------------------------------------------------------------\u001b[0m",
      "\u001b[1;31mNameError\u001b[0m                                 Traceback (most recent call last)",
      "Cell \u001b[1;32mIn[21], line 11\u001b[0m\n\u001b[0;32m      7\u001b[0m         total_result[\u001b[39mtype\u001b[39m]\u001b[39m+\u001b[39m\u001b[39m=\u001b[39mweight\n\u001b[0;32m      9\u001b[0m     \u001b[39mreturn\u001b[39;00m \u001b[39mmax\u001b[39m(total_result)\n\u001b[1;32m---> 11\u001b[0m strategy_total_result\u001b[39m.\u001b[39;49mapply(\u001b[39mlambda\u001b[39;49;00m row: sum_strategy(row),axis\u001b[39m=\u001b[39;49m\u001b[39m1\u001b[39;49m)\n\u001b[0;32m     14\u001b[0m \u001b[39m#            for column in strategy_total_result.columns:\u001b[39;00m\n\u001b[0;32m     15\u001b[0m \u001b[39m#                strategy_total_result[column] = strategy_total_result[column].fillna(\u001b[39;00m\n\u001b[0;32m     16\u001b[0m \u001b[39m#                    {i: (StrategyResultColumnType.KEEP, 0) for i in strategy_total_result.index})\u001b[39;00m\n",
      "File \u001b[1;32mc:\\Users\\이무송\\backtest\\env\\lib\\site-packages\\pandas\\core\\frame.py:9568\u001b[0m, in \u001b[0;36mDataFrame.apply\u001b[1;34m(self, func, axis, raw, result_type, args, **kwargs)\u001b[0m\n\u001b[0;32m   9557\u001b[0m \u001b[39mfrom\u001b[39;00m \u001b[39mpandas\u001b[39;00m\u001b[39m.\u001b[39;00m\u001b[39mcore\u001b[39;00m\u001b[39m.\u001b[39;00m\u001b[39mapply\u001b[39;00m \u001b[39mimport\u001b[39;00m frame_apply\n\u001b[0;32m   9559\u001b[0m op \u001b[39m=\u001b[39m frame_apply(\n\u001b[0;32m   9560\u001b[0m     \u001b[39mself\u001b[39m,\n\u001b[0;32m   9561\u001b[0m     func\u001b[39m=\u001b[39mfunc,\n\u001b[1;32m   (...)\u001b[0m\n\u001b[0;32m   9566\u001b[0m     kwargs\u001b[39m=\u001b[39mkwargs,\n\u001b[0;32m   9567\u001b[0m )\n\u001b[1;32m-> 9568\u001b[0m \u001b[39mreturn\u001b[39;00m op\u001b[39m.\u001b[39;49mapply()\u001b[39m.\u001b[39m__finalize__(\u001b[39mself\u001b[39m, method\u001b[39m=\u001b[39m\u001b[39m\"\u001b[39m\u001b[39mapply\u001b[39m\u001b[39m\"\u001b[39m)\n",
      "File \u001b[1;32mc:\\Users\\이무송\\backtest\\env\\lib\\site-packages\\pandas\\core\\apply.py:764\u001b[0m, in \u001b[0;36mFrameApply.apply\u001b[1;34m(self)\u001b[0m\n\u001b[0;32m    761\u001b[0m \u001b[39melif\u001b[39;00m \u001b[39mself\u001b[39m\u001b[39m.\u001b[39mraw:\n\u001b[0;32m    762\u001b[0m     \u001b[39mreturn\u001b[39;00m \u001b[39mself\u001b[39m\u001b[39m.\u001b[39mapply_raw()\n\u001b[1;32m--> 764\u001b[0m \u001b[39mreturn\u001b[39;00m \u001b[39mself\u001b[39;49m\u001b[39m.\u001b[39;49mapply_standard()\n",
      "File \u001b[1;32mc:\\Users\\이무송\\backtest\\env\\lib\\site-packages\\pandas\\core\\apply.py:891\u001b[0m, in \u001b[0;36mFrameApply.apply_standard\u001b[1;34m(self)\u001b[0m\n\u001b[0;32m    890\u001b[0m \u001b[39mdef\u001b[39;00m \u001b[39mapply_standard\u001b[39m(\u001b[39mself\u001b[39m):\n\u001b[1;32m--> 891\u001b[0m     results, res_index \u001b[39m=\u001b[39m \u001b[39mself\u001b[39;49m\u001b[39m.\u001b[39;49mapply_series_generator()\n\u001b[0;32m    893\u001b[0m     \u001b[39m# wrap results\u001b[39;00m\n\u001b[0;32m    894\u001b[0m     \u001b[39mreturn\u001b[39;00m \u001b[39mself\u001b[39m\u001b[39m.\u001b[39mwrap_results(results, res_index)\n",
      "File \u001b[1;32mc:\\Users\\이무송\\backtest\\env\\lib\\site-packages\\pandas\\core\\apply.py:907\u001b[0m, in \u001b[0;36mFrameApply.apply_series_generator\u001b[1;34m(self)\u001b[0m\n\u001b[0;32m    904\u001b[0m \u001b[39mwith\u001b[39;00m option_context(\u001b[39m\"\u001b[39m\u001b[39mmode.chained_assignment\u001b[39m\u001b[39m\"\u001b[39m, \u001b[39mNone\u001b[39;00m):\n\u001b[0;32m    905\u001b[0m     \u001b[39mfor\u001b[39;00m i, v \u001b[39min\u001b[39;00m \u001b[39menumerate\u001b[39m(series_gen):\n\u001b[0;32m    906\u001b[0m         \u001b[39m# ignore SettingWithCopy here in case the user mutates\u001b[39;00m\n\u001b[1;32m--> 907\u001b[0m         results[i] \u001b[39m=\u001b[39m \u001b[39mself\u001b[39;49m\u001b[39m.\u001b[39;49mf(v)\n\u001b[0;32m    908\u001b[0m         \u001b[39mif\u001b[39;00m \u001b[39misinstance\u001b[39m(results[i], ABCSeries):\n\u001b[0;32m    909\u001b[0m             \u001b[39m# If we have a view on v, we need to make a copy because\u001b[39;00m\n\u001b[0;32m    910\u001b[0m             \u001b[39m#  series_generator will swap out the underlying data\u001b[39;00m\n\u001b[0;32m    911\u001b[0m             results[i] \u001b[39m=\u001b[39m results[i]\u001b[39m.\u001b[39mcopy(deep\u001b[39m=\u001b[39m\u001b[39mFalse\u001b[39;00m)\n",
      "Cell \u001b[1;32mIn[21], line 11\u001b[0m, in \u001b[0;36m<lambda>\u001b[1;34m(row)\u001b[0m\n\u001b[0;32m      7\u001b[0m         total_result[\u001b[39mtype\u001b[39m]\u001b[39m+\u001b[39m\u001b[39m=\u001b[39mweight\n\u001b[0;32m      9\u001b[0m     \u001b[39mreturn\u001b[39;00m \u001b[39mmax\u001b[39m(total_result)\n\u001b[1;32m---> 11\u001b[0m strategy_total_result\u001b[39m.\u001b[39mapply(\u001b[39mlambda\u001b[39;00m row: sum_strategy(row),axis\u001b[39m=\u001b[39m\u001b[39m1\u001b[39m)\n\u001b[0;32m     14\u001b[0m \u001b[39m#            for column in strategy_total_result.columns:\u001b[39;00m\n\u001b[0;32m     15\u001b[0m \u001b[39m#                strategy_total_result[column] = strategy_total_result[column].fillna(\u001b[39;00m\n\u001b[0;32m     16\u001b[0m \u001b[39m#                    {i: (StrategyResultColumnType.KEEP, 0) for i in strategy_total_result.index})\u001b[39;00m\n",
      "\u001b[1;31mNameError\u001b[0m: name 'sum_strategy' is not defined"
     ]
    }
   ],
   "source": [
    "def sum_strategy(series : pd.Series):\n",
    "    total_result = {StrategyResultColumnType.KEEP:0,\n",
    "                    StrategyResultColumnType.SELL:0,\n",
    "                    StrategyResultColumnType.BUY:0}\n",
    "    for idx in series.index:\n",
    "        type,weight=series[idx]\n",
    "        total_result[type]+=weight\n",
    "\n",
    "    return max(total_result)\n",
    "\n",
    "strategy_total_result.apply(lambda row: sum_strategy(row),axis=1)\n",
    "\n",
    "\n",
    "#            for column in strategy_total_result.columns:\n",
    "#                strategy_total_result[column] = strategy_total_result[column].fillna(\n",
    "#                    {i: (StrategyResultColumnType.KEEP, 0) for i in strategy_total_result.index})\n"
   ]
  },
  {
   "cell_type": "code",
   "execution_count": 12,
   "id": "d651413b",
   "metadata": {},
   "outputs": [
    {
     "data": {
      "text/html": [
       "<div>\n",
       "<style scoped>\n",
       "    .dataframe tbody tr th:only-of-type {\n",
       "        vertical-align: middle;\n",
       "    }\n",
       "\n",
       "    .dataframe tbody tr th {\n",
       "        vertical-align: top;\n",
       "    }\n",
       "\n",
       "    .dataframe thead th {\n",
       "        text-align: right;\n",
       "    }\n",
       "</style>\n",
       "<table border=\"1\" class=\"dataframe\">\n",
       "  <thead>\n",
       "    <tr style=\"text-align: right;\">\n",
       "      <th></th>\n",
       "      <th>strategy1</th>\n",
       "    </tr>\n",
       "    <tr>\n",
       "      <th>date</th>\n",
       "      <th></th>\n",
       "    </tr>\n",
       "  </thead>\n",
       "  <tbody>\n",
       "    <tr>\n",
       "      <th>2022-01-01</th>\n",
       "      <td>(StrategyResultColumnType.KEEP, 100)</td>\n",
       "    </tr>\n",
       "    <tr>\n",
       "      <th>2022-01-02</th>\n",
       "      <td>(StrategyResultColumnType.BUY, 100)</td>\n",
       "    </tr>\n",
       "    <tr>\n",
       "      <th>2022-01-03</th>\n",
       "      <td>(StrategyResultColumnType.SELL, 100)</td>\n",
       "    </tr>\n",
       "    <tr>\n",
       "      <th>2022-01-04</th>\n",
       "      <td>(StrategyResultColumnType.SELL, 100)</td>\n",
       "    </tr>\n",
       "    <tr>\n",
       "      <th>2022-01-05</th>\n",
       "      <td>(StrategyResultColumnType.BUY, 100)</td>\n",
       "    </tr>\n",
       "  </tbody>\n",
       "</table>\n",
       "</div>"
      ],
      "text/plain": [
       "                                       strategy1\n",
       "date                                            \n",
       "2022-01-01  (StrategyResultColumnType.KEEP, 100)\n",
       "2022-01-02   (StrategyResultColumnType.BUY, 100)\n",
       "2022-01-03  (StrategyResultColumnType.SELL, 100)\n",
       "2022-01-04  (StrategyResultColumnType.SELL, 100)\n",
       "2022-01-05   (StrategyResultColumnType.BUY, 100)"
      ]
     },
     "execution_count": 12,
     "metadata": {},
     "output_type": "execute_result"
    }
   ],
   "source": [
    "\n",
    "strategy_total_result\n",
    "for column in strategy_total_result.columns:\n",
    "    strategy_total_result[column] = strategy_total_result[column].fillna(\n",
    "        {i: (StrategyResultColumnType.KEEP, 0) for i in strategy_total_result.index})\n",
    "strategy_total_result\n"
   ]
  },
  {
   "cell_type": "code",
   "execution_count": 3,
   "id": "dd726034",
   "metadata": {},
   "outputs": [
    {
     "data": {
      "text/plain": [
       "StockData(symbol='', data=                         open      high       low     close         volume\n",
       "date                                                                      \n",
       "2017-12-02 09:00:00  10775.04  11190.00  10620.00  10890.01    4765.439757\n",
       "2017-12-03 09:00:00  10902.69  11825.00  10500.00  11165.41    5346.636524\n",
       "2017-12-04 09:00:00  11165.41  11600.00  10802.00  11579.00    4663.424562\n",
       "2017-12-05 09:00:00  11571.03  11853.00  11447.68  11699.99    5550.732055\n",
       "2017-12-06 09:00:00  11699.99  13615.23  11665.58  13550.05    6707.946319\n",
       "...                       ...       ...       ...       ...            ...\n",
       "2023-02-01 09:00:00  23125.13  23812.66  22760.23  23732.66  310790.422710\n",
       "2023-02-02 09:00:00  23731.41  24255.00  23363.27  23488.94  364177.207510\n",
       "2023-02-03 09:00:00  23489.33  23715.70  23204.62  23431.90  332571.029040\n",
       "2023-02-04 09:00:00  23431.90  23587.78  23253.96  23326.84  166126.472950\n",
       "2023-02-05 09:00:00  23327.66  23390.00  23230.00  23371.89   34702.823180\n",
       "\n",
       "[1893 rows x 5 columns])"
      ]
     },
     "execution_count": 3,
     "metadata": {},
     "output_type": "execute_result"
    }
   ],
   "source": [
    "stockdata_binance.value"
   ]
  },
  {
   "cell_type": "code",
   "execution_count": 4,
   "id": "6a6e9901",
   "metadata": {},
   "outputs": [
    {
     "data": {
      "text/plain": [
       "StockData(symbol='', data=                           open        high         low       close  \\\n",
       "date                                                                  \n",
       "2017-12-01 09:00:00  11935000.0  12680000.0  11201000.0  12532000.0   \n",
       "2017-12-02 09:00:00  12532000.0  13180000.0  12350000.0  12971000.0   \n",
       "2017-12-03 09:00:00  12970000.0  13529000.0  12840000.0  13128000.0   \n",
       "2017-12-04 09:00:00  13120000.0  13688000.0  13119000.0  13684000.0   \n",
       "2017-12-05 09:00:00  13683000.0  14794000.0  13612000.0  14645000.0   \n",
       "...                         ...         ...         ...         ...   \n",
       "2023-02-01 09:00:00  29052000.0  29740000.0  28626000.0  29620000.0   \n",
       "2023-02-02 09:00:00  29599000.0  30285000.0  29530000.0  29600000.0   \n",
       "2023-02-03 09:00:00  29601000.0  29734000.0  29287000.0  29432000.0   \n",
       "2023-02-04 09:00:00  29432000.0  29650000.0  29349000.0  29420000.0   \n",
       "2023-02-05 09:00:00  29398000.0  29528000.0  29350000.0  29450000.0   \n",
       "\n",
       "                           volume  \n",
       "date                               \n",
       "2017-12-01 09:00:00  30105.442879  \n",
       "2017-12-02 09:00:00  29070.165894  \n",
       "2017-12-03 09:00:00  26158.443220  \n",
       "2017-12-04 09:00:00  23034.669188  \n",
       "2017-12-05 09:00:00  27842.824832  \n",
       "...                           ...  \n",
       "2023-02-01 09:00:00   5637.916748  \n",
       "2023-02-02 09:00:00   6298.033361  \n",
       "2023-02-03 09:00:00   4743.686426  \n",
       "2023-02-04 09:00:00   2924.162830  \n",
       "2023-02-05 09:00:00    869.440154  \n",
       "\n",
       "[1893 rows x 5 columns])"
      ]
     },
     "execution_count": 4,
     "metadata": {},
     "output_type": "execute_result"
    }
   ],
   "source": [
    "stockdata_upbit.value"
   ]
  },
  {
   "cell_type": "code",
   "execution_count": 5,
   "id": "6cf16aa4",
   "metadata": {},
   "outputs": [],
   "source": [
    "# strategy function 제작\n",
    "import pandas as pd\n",
    "from backtest.domains.strategy_result import StrategyResult, StrategyResultColumnType\n",
    "from backtest.domains.strategy import Strategy\n",
    "\n",
    "def strategy_function1(strategy: Strategy):\n",
    "    response = StrategyResult(value=pd.DataFrame(\n",
    "        index=strategy.data.index, columns=[strategy.name]))\n",
    "    response.value[strategy.name] = [(\n",
    "        StrategyResultColumnType.SELL, strategy.weight)] * len(strategy)\n",
    "    return response"
   ]
  },
  {
   "cell_type": "code",
   "execution_count": 6,
   "id": "9f054e67",
   "metadata": {},
   "outputs": [],
   "source": [
    "from backtest.use_cases.strategy_execute import strategy_execute\n",
    "from backtest.use_cases.strategy_execute import _basic_function\n",
    "from backtest.domains.strategy import Strategy,StrategyType\n",
    "\n",
    "strategy1 = Strategy(name='basic_strategy',type=StrategyType.with_stockdata,data=stockdata_upbit.value,weight=100)\n",
    "strategy2 = Strategy(name='basic_strategy2',type=StrategyType.with_stockdata,data=stockdata_upbit.value,weight=300)\n",
    "\n",
    "strategy_result1 = strategy_execute(strategy1)\n",
    "strategy_result2 = strategy_execute(strategy2,strategy_fucntion=strategy_function1)"
   ]
  },
  {
   "cell_type": "code",
   "execution_count": 7,
   "id": "ec76ef56",
   "metadata": {},
   "outputs": [
    {
     "data": {
      "text/plain": [
       "StrategyResult(value=                                           basic_strategy\n",
       "date                                                     \n",
       "2017-12-01 09:00:00  (StrategyResultColumnType.KEEP, 100)\n",
       "2017-12-02 09:00:00  (StrategyResultColumnType.KEEP, 100)\n",
       "2017-12-03 09:00:00  (StrategyResultColumnType.KEEP, 100)\n",
       "2017-12-04 09:00:00  (StrategyResultColumnType.KEEP, 100)\n",
       "2017-12-05 09:00:00  (StrategyResultColumnType.KEEP, 100)\n",
       "...                                                   ...\n",
       "2023-02-01 09:00:00  (StrategyResultColumnType.KEEP, 100)\n",
       "2023-02-02 09:00:00  (StrategyResultColumnType.KEEP, 100)\n",
       "2023-02-03 09:00:00  (StrategyResultColumnType.KEEP, 100)\n",
       "2023-02-04 09:00:00  (StrategyResultColumnType.KEEP, 100)\n",
       "2023-02-05 09:00:00  (StrategyResultColumnType.KEEP, 100)\n",
       "\n",
       "[1893 rows x 1 columns])"
      ]
     },
     "execution_count": 7,
     "metadata": {},
     "output_type": "execute_result"
    }
   ],
   "source": [
    "strategy_result1.value\n",
    "# StrategyResultColumnType 종류\n",
    "# KEEP, SELL, BUY"
   ]
  },
  {
   "cell_type": "code",
   "execution_count": 8,
   "id": "81d4c18f",
   "metadata": {},
   "outputs": [
    {
     "data": {
      "text/plain": [
       "StrategyResult(value=                                          basic_strategy2\n",
       "date                                                     \n",
       "2017-12-01 09:00:00  (StrategyResultColumnType.SELL, 300)\n",
       "2017-12-02 09:00:00  (StrategyResultColumnType.SELL, 300)\n",
       "2017-12-03 09:00:00  (StrategyResultColumnType.SELL, 300)\n",
       "2017-12-04 09:00:00  (StrategyResultColumnType.SELL, 300)\n",
       "2017-12-05 09:00:00  (StrategyResultColumnType.SELL, 300)\n",
       "...                                                   ...\n",
       "2023-02-01 09:00:00  (StrategyResultColumnType.SELL, 300)\n",
       "2023-02-02 09:00:00  (StrategyResultColumnType.SELL, 300)\n",
       "2023-02-03 09:00:00  (StrategyResultColumnType.SELL, 300)\n",
       "2023-02-04 09:00:00  (StrategyResultColumnType.SELL, 300)\n",
       "2023-02-05 09:00:00  (StrategyResultColumnType.SELL, 300)\n",
       "\n",
       "[1893 rows x 1 columns])"
      ]
     },
     "execution_count": 8,
     "metadata": {},
     "output_type": "execute_result"
    }
   ],
   "source": [
    "strategy_result2.value"
   ]
  },
  {
   "cell_type": "code",
   "execution_count": null,
   "id": "9a15a0ed",
   "metadata": {},
   "outputs": [],
   "source": []
  }
 ],
 "metadata": {
  "kernelspec": {
   "display_name": "env",
   "language": "python",
   "name": "python3"
  },
  "language_info": {
   "codemirror_mode": {
    "name": "ipython",
    "version": 3
   },
   "file_extension": ".py",
   "mimetype": "text/x-python",
   "name": "python",
   "nbconvert_exporter": "python",
   "pygments_lexer": "ipython3",
   "version": "3.10.5"
  },
  "vscode": {
   "interpreter": {
    "hash": "45e11393f9caba1e30f1344de087132ad1c525c5ebca6d7f819aed5f910b619d"
   }
  }
 },
 "nbformat": 4,
 "nbformat_minor": 5
}
