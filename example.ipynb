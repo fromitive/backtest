{
 "cells": [
  {
   "cell_type": "code",
   "execution_count": 107,
   "id": "c6fe7a95",
   "metadata": {},
   "outputs": [
    {
     "name": "stdout",
     "output_type": "stream",
     "text": [
      "The autoreload extension is already loaded. To reload it, use:\n",
      "  %reload_ext autoreload\n"
     ]
    }
   ],
   "source": [
    "from backtest.repository.finance.finance_repo import FinanceRepo\n",
    "%load_ext autoreload\n",
    "%autoreload 2\n",
    "\n",
    "from backtest.domains.strategy import StockData\n",
    "from backtest.domains.strategy import Strategy\n",
    "from backtest.domains.strategy_result import StrategyResult,StrategyResultColumnType\n",
    "from backtest.domains.backtest import Backtest\n",
    "from backtest.repository.webrepo.bithumb_repo import BithumbRepo\n",
    "from backtest.repository.webrepo.upbit_repo import UpbitRepo\n",
    "from backtest.repository.webrepo.binance_repo import BinanceRepo\n",
    "from backtest.use_cases.stockdata_from_repo import stockdata_from_repo\n",
    "from backtest.request.stockdata_from_repo import build_stock_data_from_repo_request\n",
    "from backtest.use_cases.strategy_execute import sma_function, sma_big_stock_function, sma_multi_big_stock_function, greed_fear_index_function, rsi_function, rsi_big_stock_function\n",
    "from backtest.use_cases.backtest_execute import backtest_execute\n",
    "from backtest.util.stockdata_util import get_greed_fear_index\n",
    "import pandas as pd\n",
    "\n",
    "request = build_stock_data_from_repo_request(\n",
    "    filters={'order__eq': 'ALGO', 'from__eq': '2019-01-01'})\n",
    "response = stockdata_from_repo(BithumbRepo(), request=request)\n",
    "\n",
    "request2 = build_stock_data_from_repo_request(\n",
    "    filters={'order__eq': 'BTC', 'from__eq': '2019-01-01'})\n",
    "response2 = stockdata_from_repo(BithumbRepo(), request=request2)\n",
    "\n",
    "request3 = build_stock_data_from_repo_request(\n",
    "    filters={'order__eq': 'MLK', 'from__eq': '2019-01-01'})\n",
    "response3 = stockdata_from_repo(BithumbRepo(), request=request3)\n",
    "\n",
    "request4 = build_stock_data_from_repo_request(\n",
    "    filters={'order__eq': 'US500', 'from__eq': '2019-11-01'})\n",
    "response4 = stockdata_from_repo(FinanceRepo(), request=request4)\n",
    "\n",
    "request5 = build_stock_data_from_repo_request(\n",
    "    filters={'order__eq': 'SOL', 'from__eq': '2019-01-01'})\n",
    "response5 = stockdata_from_repo(BithumbRepo(), request=request5)\n",
    "\n",
    "stockdata1 = response.value\n",
    "stockdata2 = response2.value\n",
    "stockdata3 = response3.value\n",
    "stockdata4 = response4.value\n",
    "stockdata5 = response5.value\n",
    "\n",
    "strategy1 = Strategy(name='snp_big_stock', function=sma_big_stock_function,\n",
    "                    weight=3, options={'big_stock': stockdata4, 'rolling': 100})\n",
    "strategy2 = Strategy(name='sma_big_stock', function=sma_big_stock_function,\n",
    "                    weight=2, options={'big_stock': stockdata2, 'rolling': 90})\n",
    "strategy3 = Strategy(name='sma_self', function=sma_function,\n",
    "                    weight=1, options={'rolling': 10})\n",
    "greed_fear_df = get_greed_fear_index()\n",
    "strategy4 = Strategy(name='Greed_Fear_Index',function=greed_fear_index_function,\n",
    "                    weight=1, options={'greed_fear_index_data': greed_fear_df,'index_fear' : 20,'index_greed':60})\n",
    "strategy5 = Strategy(name='rsi_function',function=rsi_function,\n",
    "                    weight=0.5, options={'period': 15,'overbought_level' : 30,'oversold_level': 70})\n",
    "strategy6 = Strategy(name='rsi_big_stock_function',function=rsi_big_stock_function,\n",
    "                    weight=0.5, options={'big_stock':stockdata4, 'period': 15,'overbought_level' : 30,'oversold_level':70})\n",
    "strategy7 = Strategy(name='sma_multi_big_stock', function=sma_multi_big_stock_function,\n",
    "                    weight=2, options={'big_stock': stockdata4, 'rolling_list': [100,15]})\n",
    "strategy8 = Strategy(name='sma_multi_big_stock', function=sma_multi_big_stock_function,\n",
    "                    weight=1, options={'big_stock': stockdata2, 'rolling_list': [100,15]})\n"
   ]
  },
  {
   "cell_type": "code",
   "execution_count": 112,
   "id": "6edbf130",
   "metadata": {},
   "outputs": [
    {
     "ename": "NameError",
     "evalue": "name 'stockdatastockdata5' is not defined",
     "output_type": "error",
     "traceback": [
      "\u001b[0;31m---------------------------------------------------------------------------\u001b[0m",
      "\u001b[0;31mNameError\u001b[0m                                 Traceback (most recent call last)",
      "Cell \u001b[0;32mIn[112], line 1\u001b[0m\n\u001b[0;32m----> 1\u001b[0m backtest \u001b[39m=\u001b[39m Backtest(strategy_list\u001b[39m=\u001b[39m[strategy1,strategy2,strategy3,strategy4,strategy5,strategy6,strategy7,strategy8], stockdata_list\u001b[39m=\u001b[39m[stockdatastockdata5])\n\u001b[1;32m      2\u001b[0m backtest_result \u001b[39m=\u001b[39m backtest_execute(backtest)\u001b[39m.\u001b[39mvalue\n\u001b[1;32m      3\u001b[0m backtest_result\u001b[39m.\u001b[39mvalue\n",
      "\u001b[0;31mNameError\u001b[0m: name 'stockdatastockdata5' is not defined"
     ]
    }
   ],
   "source": [
    "backtest = Backtest(strategy_list=[strategy1,strategy2,strategy3,strategy4,strategy5,strategy6,strategy7,strategy8], stockdata_list=[stockdata1,stockdata2,stockdata3,stockdata5])\n",
    "backtest_result = backtest_execute(backtest).value\n",
    "backtest_result.value\n",
    "df=backtest_result.value['total_profit'].expanding().sum()\n",
    "df"
   ]
  },
  {
   "cell_type": "code",
   "execution_count": 111,
   "id": "6be6a2b2",
   "metadata": {},
   "outputs": [
    {
     "data": {
      "text/plain": [
       "-0.0037901895809572335"
      ]
     },
     "execution_count": 111,
     "metadata": {},
     "output_type": "execute_result"
    }
   ],
   "source": [
    "backtest_result.value['total_profit'].min()"
   ]
  },
  {
   "cell_type": "code",
   "execution_count": 109,
   "id": "1f9d9da3",
   "metadata": {},
   "outputs": [],
   "source": [
    "backtest_result.value.to_csv('sample.csv')"
   ]
  },
  {
   "cell_type": "code",
   "execution_count": 171,
   "id": "e161e414",
   "metadata": {},
   "outputs": [],
   "source": [
    "def calculate_rsi(data, period):\n",
    "    delta = data.diff().dropna()\n",
    "    gain = delta.where(delta > 0, 0)\n",
    "    loss = -delta.where(delta < 0, 0)\n",
    "\n",
    "    avg_gain = gain.rolling(window=period).mean()\n",
    "    avg_loss = loss.rolling(window=period).mean()\n",
    "\n",
    "    rs = avg_gain / avg_loss\n",
    "    rsi = 100 - (100 / (1 + rs))\n",
    "    return rsi\n",
    "\n",
    "\n",
    "df=stockdata5.data\n",
    "df['RSI']=calculate_rsi(df['close'],14)\n",
    "def _rsi_function(r):\n",
    "    if r <= 70 and r > 70:\n",
    "        return (StrategyResultColumnType.BUY, 1)\n",
    "    elif r >= 30 and r < 30:\n",
    "        return (StrategyResultColumnType.SELL, 1)\n",
    "    else:\n",
    "        return (StrategyResultColumnType.KEEP, 1)\n",
    "result=df.apply(lambda r:_rsi_function(r['close']),axis=1)"
   ]
  },
  {
   "cell_type": "code",
   "execution_count": null,
   "id": "51d0589a",
   "metadata": {},
   "outputs": [],
   "source": []
  }
 ],
 "metadata": {
  "kernelspec": {
   "display_name": "env",
   "language": "python",
   "name": "python3"
  },
  "language_info": {
   "codemirror_mode": {
    "name": "ipython",
    "version": 3
   },
   "file_extension": ".py",
   "mimetype": "text/x-python",
   "name": "python",
   "nbconvert_exporter": "python",
   "pygments_lexer": "ipython3",
   "version": "3.11.2"
  },
  "vscode": {
   "interpreter": {
    "hash": "d42b11b49e59ca1144df409e382e1987acf2242c86b9272a2736c9041df93c4a"
   }
  }
 },
 "nbformat": 4,
 "nbformat_minor": 5
}
