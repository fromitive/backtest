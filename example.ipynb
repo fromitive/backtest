{
 "cells": [
  {
   "cell_type": "code",
   "execution_count": 1,
   "id": "c6fe7a95",
   "metadata": {},
   "outputs": [
    {
     "name": "stdout",
     "output_type": "stream",
     "text": [
      "2020-05-12\n",
      "2017-08-17\n"
     ]
    }
   ],
   "source": [
    "%load_ext autoreload\n",
    "%autoreload 2\n",
    "# stockdata 불러오기 \n",
    "from backtest.request.stockdata_from_repo import build_stock_data_from_repo_request\n",
    "from backtest.use_cases.stockdata_from_repo import stockdata_from_repo\n",
    "from backtest.repository.webrepo.upbit_repo import UpbitRepo\n",
    "from backtest.repository.webrepo.bithumb_repo import BithumbRepo\n",
    "from backtest.repository.webrepo.binance_repo import BinanceRepo\n",
    "\n",
    "filter = {'order__eq': 'BTC', 'from__eq': '2017-12-01'}\n",
    "request=build_stock_data_from_repo_request(filters=filter)\n",
    "stockdata_bithumb = stockdata_from_repo(BithumbRepo(),request)\n",
    "stockdata_upbit = stockdata_from_repo(UpbitRepo(),request)\n",
    "stockdata_binance = stockdata_from_repo(BinanceRepo(),request)\n",
    "\n"
   ]
  },
  {
   "cell_type": "code",
   "execution_count": 2,
   "id": "6035b004",
   "metadata": {},
   "outputs": [
    {
     "data": {
      "text/plain": [
       "StockData(symbol='', data=                           open        high         low       close  \\\n",
       "date                                                                  \n",
       "2017-12-01 00:00:00  10899000.0  12588000.0  10442000.0  12233000.0   \n",
       "2017-12-02 00:00:00  12220000.0  13091000.0  12030000.0  12663000.0   \n",
       "2017-12-03 00:00:00  12663000.0  13375000.0  12515000.0  13259000.0   \n",
       "2017-12-04 00:00:00  13259000.0  13490000.0  12791000.0  13401000.0   \n",
       "2017-12-05 00:00:00  13404000.0  14385000.0  13311000.0  14237000.0   \n",
       "...                         ...         ...         ...         ...   \n",
       "2023-02-01 00:00:00  29054000.0  29237000.0  28638000.0  28991000.0   \n",
       "2023-02-02 00:00:00  28993000.0  30228000.0  28651000.0  29626000.0   \n",
       "2023-02-03 00:00:00  29628000.0  30100000.0  29250000.0  29506000.0   \n",
       "2023-02-04 00:00:00  29505000.0  29736000.0  29262000.0  29550000.0   \n",
       "2023-02-05 14:00:00  29551000.0  29572000.0  29350000.0  29440000.0   \n",
       "\n",
       "                           volume  \n",
       "date                               \n",
       "2017-12-01 00:00:00  75003.683326  \n",
       "2017-12-02 00:00:00  48893.966205  \n",
       "2017-12-03 00:00:00  28049.376367  \n",
       "2017-12-04 00:00:00  31170.103762  \n",
       "2017-12-05 00:00:00  35297.687791  \n",
       "...                           ...  \n",
       "2023-02-01 00:00:00   2299.208975  \n",
       "2023-02-02 00:00:00   3518.798593  \n",
       "2023-02-03 00:00:00   3031.124570  \n",
       "2023-02-04 00:00:00   1991.348570  \n",
       "2023-02-05 14:00:00   1021.473595  \n",
       "\n",
       "[1894 rows x 5 columns])"
      ]
     },
     "execution_count": 2,
     "metadata": {},
     "output_type": "execute_result"
    }
   ],
   "source": [
    "stockdata_bithumb.value"
   ]
  },
  {
   "cell_type": "code",
   "execution_count": 3,
   "id": "dd726034",
   "metadata": {},
   "outputs": [
    {
     "data": {
      "text/plain": [
       "StockData(symbol='', data=                         open      high       low     close         volume\n",
       "date                                                                      \n",
       "2017-12-02 09:00:00  10775.04  11190.00  10620.00  10890.01    4765.439757\n",
       "2017-12-03 09:00:00  10902.69  11825.00  10500.00  11165.41    5346.636524\n",
       "2017-12-04 09:00:00  11165.41  11600.00  10802.00  11579.00    4663.424562\n",
       "2017-12-05 09:00:00  11571.03  11853.00  11447.68  11699.99    5550.732055\n",
       "2017-12-06 09:00:00  11699.99  13615.23  11665.58  13550.05    6707.946319\n",
       "...                       ...       ...       ...       ...            ...\n",
       "2023-02-01 09:00:00  23125.13  23812.66  22760.23  23732.66  310790.422710\n",
       "2023-02-02 09:00:00  23731.41  24255.00  23363.27  23488.94  364177.207510\n",
       "2023-02-03 09:00:00  23489.33  23715.70  23204.62  23431.90  332571.029040\n",
       "2023-02-04 09:00:00  23431.90  23587.78  23253.96  23326.84  166126.472950\n",
       "2023-02-05 09:00:00  23327.66  23390.00  23230.00  23371.89   34702.823180\n",
       "\n",
       "[1893 rows x 5 columns])"
      ]
     },
     "execution_count": 3,
     "metadata": {},
     "output_type": "execute_result"
    }
   ],
   "source": [
    "stockdata_binance.value"
   ]
  },
  {
   "cell_type": "code",
   "execution_count": 4,
   "id": "6a6e9901",
   "metadata": {},
   "outputs": [
    {
     "data": {
      "text/plain": [
       "StockData(symbol='', data=                           open        high         low       close  \\\n",
       "date                                                                  \n",
       "2017-12-01 09:00:00  11935000.0  12680000.0  11201000.0  12532000.0   \n",
       "2017-12-02 09:00:00  12532000.0  13180000.0  12350000.0  12971000.0   \n",
       "2017-12-03 09:00:00  12970000.0  13529000.0  12840000.0  13128000.0   \n",
       "2017-12-04 09:00:00  13120000.0  13688000.0  13119000.0  13684000.0   \n",
       "2017-12-05 09:00:00  13683000.0  14794000.0  13612000.0  14645000.0   \n",
       "...                         ...         ...         ...         ...   \n",
       "2023-02-01 09:00:00  29052000.0  29740000.0  28626000.0  29620000.0   \n",
       "2023-02-02 09:00:00  29599000.0  30285000.0  29530000.0  29600000.0   \n",
       "2023-02-03 09:00:00  29601000.0  29734000.0  29287000.0  29432000.0   \n",
       "2023-02-04 09:00:00  29432000.0  29650000.0  29349000.0  29420000.0   \n",
       "2023-02-05 09:00:00  29398000.0  29528000.0  29350000.0  29450000.0   \n",
       "\n",
       "                           volume  \n",
       "date                               \n",
       "2017-12-01 09:00:00  30105.442879  \n",
       "2017-12-02 09:00:00  29070.165894  \n",
       "2017-12-03 09:00:00  26158.443220  \n",
       "2017-12-04 09:00:00  23034.669188  \n",
       "2017-12-05 09:00:00  27842.824832  \n",
       "...                           ...  \n",
       "2023-02-01 09:00:00   5637.916748  \n",
       "2023-02-02 09:00:00   6298.033361  \n",
       "2023-02-03 09:00:00   4743.686426  \n",
       "2023-02-04 09:00:00   2924.162830  \n",
       "2023-02-05 09:00:00    869.440154  \n",
       "\n",
       "[1893 rows x 5 columns])"
      ]
     },
     "execution_count": 4,
     "metadata": {},
     "output_type": "execute_result"
    }
   ],
   "source": [
    "stockdata_upbit.value"
   ]
  },
  {
   "cell_type": "code",
   "execution_count": 5,
   "id": "6cf16aa4",
   "metadata": {},
   "outputs": [],
   "source": [
    "# strategy function 제작\n",
    "import pandas as pd\n",
    "from backtest.domains.strategy_result import StrategyResult, StrategyResultColumnType\n",
    "from backtest.domains.strategy import Strategy\n",
    "\n",
    "def strategy_function1(strategy: Strategy):\n",
    "    response = StrategyResult(value=pd.DataFrame(\n",
    "        index=strategy.data.index, columns=[strategy.name]))\n",
    "    response.value[strategy.name] = [(\n",
    "        StrategyResultColumnType.SELL, strategy.weight)] * len(strategy)\n",
    "    return response"
   ]
  },
  {
   "cell_type": "code",
   "execution_count": 6,
   "id": "9f054e67",
   "metadata": {},
   "outputs": [],
   "source": [
    "from backtest.use_cases.strategy_execute import strategy_execute\n",
    "from backtest.use_cases.strategy_execute import _basic_function\n",
    "from backtest.domains.strategy import Strategy,StrategyType\n",
    "\n",
    "strategy1 = Strategy(name='basic_strategy',type=StrategyType.with_stockdata,data=stockdata_upbit.value,weight=100)\n",
    "strategy2 = Strategy(name='basic_strategy2',type=StrategyType.with_stockdata,data=stockdata_upbit.value,weight=300)\n",
    "\n",
    "strategy_result1 = strategy_execute(strategy1)\n",
    "strategy_result2 = strategy_execute(strategy2,strategy_fucntion=strategy_function1)"
   ]
  },
  {
   "cell_type": "code",
   "execution_count": 7,
   "id": "ec76ef56",
   "metadata": {},
   "outputs": [
    {
     "data": {
      "text/plain": [
       "StrategyResult(value=                                           basic_strategy\n",
       "date                                                     \n",
       "2017-12-01 09:00:00  (StrategyResultColumnType.KEEP, 100)\n",
       "2017-12-02 09:00:00  (StrategyResultColumnType.KEEP, 100)\n",
       "2017-12-03 09:00:00  (StrategyResultColumnType.KEEP, 100)\n",
       "2017-12-04 09:00:00  (StrategyResultColumnType.KEEP, 100)\n",
       "2017-12-05 09:00:00  (StrategyResultColumnType.KEEP, 100)\n",
       "...                                                   ...\n",
       "2023-02-01 09:00:00  (StrategyResultColumnType.KEEP, 100)\n",
       "2023-02-02 09:00:00  (StrategyResultColumnType.KEEP, 100)\n",
       "2023-02-03 09:00:00  (StrategyResultColumnType.KEEP, 100)\n",
       "2023-02-04 09:00:00  (StrategyResultColumnType.KEEP, 100)\n",
       "2023-02-05 09:00:00  (StrategyResultColumnType.KEEP, 100)\n",
       "\n",
       "[1893 rows x 1 columns])"
      ]
     },
     "execution_count": 7,
     "metadata": {},
     "output_type": "execute_result"
    }
   ],
   "source": [
    "strategy_result1.value\n",
    "# StrategyResultColumnType 종류\n",
    "# KEEP, SELL, BUY"
   ]
  },
  {
   "cell_type": "code",
   "execution_count": 8,
   "id": "81d4c18f",
   "metadata": {},
   "outputs": [
    {
     "data": {
      "text/plain": [
       "StrategyResult(value=                                          basic_strategy2\n",
       "date                                                     \n",
       "2017-12-01 09:00:00  (StrategyResultColumnType.SELL, 300)\n",
       "2017-12-02 09:00:00  (StrategyResultColumnType.SELL, 300)\n",
       "2017-12-03 09:00:00  (StrategyResultColumnType.SELL, 300)\n",
       "2017-12-04 09:00:00  (StrategyResultColumnType.SELL, 300)\n",
       "2017-12-05 09:00:00  (StrategyResultColumnType.SELL, 300)\n",
       "...                                                   ...\n",
       "2023-02-01 09:00:00  (StrategyResultColumnType.SELL, 300)\n",
       "2023-02-02 09:00:00  (StrategyResultColumnType.SELL, 300)\n",
       "2023-02-03 09:00:00  (StrategyResultColumnType.SELL, 300)\n",
       "2023-02-04 09:00:00  (StrategyResultColumnType.SELL, 300)\n",
       "2023-02-05 09:00:00  (StrategyResultColumnType.SELL, 300)\n",
       "\n",
       "[1893 rows x 1 columns])"
      ]
     },
     "execution_count": 8,
     "metadata": {},
     "output_type": "execute_result"
    }
   ],
   "source": [
    "strategy_result2.value"
   ]
  },
  {
   "cell_type": "code",
   "execution_count": null,
   "id": "9a15a0ed",
   "metadata": {},
   "outputs": [],
   "source": []
  }
 ],
 "metadata": {
  "kernelspec": {
   "display_name": "env",
   "language": "python",
   "name": "python3"
  },
  "language_info": {
   "codemirror_mode": {
    "name": "ipython",
    "version": 3
   },
   "file_extension": ".py",
   "mimetype": "text/x-python",
   "name": "python",
   "nbconvert_exporter": "python",
   "pygments_lexer": "ipython3",
   "version": "3.10.8"
  },
  "vscode": {
   "interpreter": {
    "hash": "d42b11b49e59ca1144df409e382e1987acf2242c86b9272a2736c9041df93c4a"
   }
  }
 },
 "nbformat": 4,
 "nbformat_minor": 5
}
