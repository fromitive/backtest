{
 "cells": [
  {
   "cell_type": "code",
   "execution_count": 86,
   "id": "c6fe7a95",
   "metadata": {},
   "outputs": [
    {
     "name": "stdout",
     "output_type": "stream",
     "text": [
      "The autoreload extension is already loaded. To reload it, use:\n",
      "  %reload_ext autoreload\n"
     ]
    },
    {
     "data": {
      "text/plain": [
       "<Axes: xlabel='date'>"
      ]
     },
     "execution_count": 86,
     "metadata": {},
     "output_type": "execute_result"
    },
    {
     "data": {
      "image/png": "[encoded data removed]",
      "text/plain": [
       "<Figure size 640x480 with 1 Axes>"
      ]
     },
     "metadata": {},
     "output_type": "display_data"
    }
   ],
   "source": [
    "from backtest.repository.finance.finance_repo import FinanceRepo\n",
    "%load_ext autoreload\n",
    "%autoreload 2\n",
    "\n",
    "from backtest.domains.strategy import StockData\n",
    "from backtest.domains.strategy import Strategy\n",
    "from backtest.domains.strategy_result import StrategyResult,StrategyResultColumnType\n",
    "from backtest.domains.backtest import Backtest\n",
    "from backtest.repository.webrepo.bithumb_repo import BithumbRepo\n",
    "from backtest.repository.webrepo.upbit_repo import UpbitRepo\n",
    "from backtest.repository.webrepo.binance_repo import BinanceRepo\n",
    "from backtest.use_cases.stockdata_from_repo import stockdata_from_repo\n",
    "from backtest.request.stockdata_from_repo import build_stock_data_from_repo_request\n",
    "from backtest.use_cases.strategy_execute import rsi_function, rsi_big_stock_function, greed_fear_index_function\n",
    "from backtest.use_cases.backtest_execute import backtest_execute\n",
    "from backtest.util.stockdata_util import get_greed_fear_index\n",
    "import pandas as pd\n",
    "\n",
    "request = build_stock_data_from_repo_request(\n",
    "    filters={'order__eq': 'ALGO', 'from__eq': '2019-01-01'})\n",
    "response = stockdata_from_repo(BithumbRepo(), request=request)\n",
    "\n",
    "request2 = build_stock_data_from_repo_request(\n",
    "    filters={'order__eq': 'BTC', 'from__eq': '2019-01-01'})\n",
    "response2 = stockdata_from_repo(BithumbRepo(), request=request2)\n",
    "\n",
    "request3 = build_stock_data_from_repo_request(\n",
    "    filters={'order__eq': 'ETH', 'from__eq': '2019-01-01'})\n",
    "response3 = stockdata_from_repo(BithumbRepo(), request=request3)\n",
    "\n",
    "request5 = build_stock_data_from_repo_request(\n",
    "    filters={'order__eq': 'ADA', 'from__eq': '2019-01-01'})\n",
    "response5 = stockdata_from_repo(BithumbRepo(), request=request5)\n",
    "\n",
    "request4 = build_stock_data_from_repo_request(\n",
    "    filters={'order__eq': 'US500', 'from__eq': '2019-01-01'})\n",
    "response4 = stockdata_from_repo(FinanceRepo(), request=request4)\n",
    "\n",
    "stockdata1 = response.value\n",
    "stockdata2 = response2.value\n",
    "stockdata3 = response3.value\n",
    "stockdata4 = response4.value\n",
    "stockdata5 = response5.value\n",
    "greed_fear_df = get_greed_fear_index()\n",
    "\n",
    "strategy1 = Strategy(name='snp_big_stock', function=rsi_big_stock_function,\n",
    "                    weight=3, options={'big_stock': stockdata4, 'rolling': 100})\n",
    "strategy2 = Strategy(name='sma_big_stock', function=rsi_big_stock_function,\n",
    "                    weight=2, options={'big_stock': stockdata2, 'rolling': 90})\n",
    "strategy3 = Strategy(name='sma_self', function=rsi_function,\n",
    "                    weight=1, options={'rolling': 10})\n",
    "strategy4 = Strategy(name='Greed_Fear_Index',function=greed_fear_index_function,\n",
    "                    weight=1, options={'greed_fear_index_data': greed_fear_df,'index_fear' : 20,'index_greed':60})\n",
    "backtest = Backtest(strategy_list=[strategy1,strategy2,strategy3,strategy4], stockdata_list=[stockdata1,stockdata2,stockdata3,stockdata5])\n",
    "backtest_result = backtest_execute(backtest).value\n",
    "backtest_result.value\n",
    "df=backtest_result.value['total_profit'].expanding().sum()\n",
    "df.plot(kind='line')"
   ]
  },
  {
   "cell_type": "code",
   "execution_count": 83,
   "id": "1f9d9da3",
   "metadata": {},
   "outputs": [
    {
     "data": {
      "text/plain": [
       "-0.14421900434758708"
      ]
     },
     "execution_count": 83,
     "metadata": {},
     "output_type": "execute_result"
    }
   ],
   "source": [
    "backtest_result.value['total_profit'].min()"
   ]
  },
  {
   "cell_type": "code",
   "execution_count": null,
   "id": "a3a83734",
   "metadata": {},
   "outputs": [],
   "source": []
  }
 ],
 "metadata": {
  "kernelspec": {
   "display_name": "env",
   "language": "python",
   "name": "python3"
  },
  "language_info": {
   "codemirror_mode": {
    "name": "ipython",
    "version": 3
   },
   "file_extension": ".py",
   "mimetype": "text/x-python",
   "name": "python",
   "nbconvert_exporter": "python",
   "pygments_lexer": "ipython3",
   "version": "3.11.2"
  },
  "vscode": {
   "interpreter": {
    "hash": "970f690790cec017939b66636ae09524891b25e5d83a3fc89336525d81f60a36"
   }
  }
 },
 "nbformat": 4,
 "nbformat_minor": 5
}
