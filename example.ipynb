{
 "cells": [
  {
   "cell_type": "code",
   "execution_count": 3,
   "id": "9d3a8fd2",
   "metadata": {},
   "outputs": [
    {
     "name": "stdout",
     "output_type": "stream",
     "text": [
      "The autoreload extension is already loaded. To reload it, use:\n",
      "  %reload_ext autoreload\n",
      "[WARNING] could not import module backtest.module_compet.talib.talib trying next..\n",
      "[INFO] using backtest.module_compet.talib.pandas for calculate strategy\n"
     ]
    },
    {
     "ename": "ModuleNotFoundError",
     "evalue": "No module named 'talib'",
     "output_type": "error",
     "traceback": [
      "\u001b[1;31m---------------------------------------------------------------------------\u001b[0m",
      "\u001b[1;31mModuleNotFoundError\u001b[0m                       Traceback (most recent call last)",
      "\u001b[1;32mc:\\Users\\A0503545\\backtest\\example.ipynb Cell 1\u001b[0m line \u001b[0;36m2\n\u001b[0;32m     <a href='vscode-notebook-cell:/c%3A/Users/A0503545/backtest/example.ipynb#W0sZmlsZQ%3D%3D?line=26'>27</a>\u001b[0m \u001b[39mfrom\u001b[39;00m \u001b[39mbacktest\u001b[39;00m\u001b[39m.\u001b[39;00m\u001b[39muse_cases\u001b[39;00m\u001b[39m.\u001b[39;00m\u001b[39mmake_crypto_backtest\u001b[39;00m \u001b[39mimport\u001b[39;00m get_upbit_symbol\n\u001b[0;32m     <a href='vscode-notebook-cell:/c%3A/Users/A0503545/backtest/example.ipynb#W0sZmlsZQ%3D%3D?line=27'>28</a>\u001b[0m \u001b[39mfrom\u001b[39;00m \u001b[39mdatetime\u001b[39;00m \u001b[39mimport\u001b[39;00m datetime, timedelta\n\u001b[1;32m---> <a href='vscode-notebook-cell:/c%3A/Users/A0503545/backtest/example.ipynb#W0sZmlsZQ%3D%3D?line=28'>29</a>\u001b[0m \u001b[39mimport\u001b[39;00m \u001b[39mtalib\u001b[39;00m\n\u001b[0;32m     <a href='vscode-notebook-cell:/c%3A/Users/A0503545/backtest/example.ipynb#W0sZmlsZQ%3D%3D?line=29'>30</a>\u001b[0m \u001b[39mimport\u001b[39;00m \u001b[39mrequests\u001b[39;00m\n\u001b[0;32m     <a href='vscode-notebook-cell:/c%3A/Users/A0503545/backtest/example.ipynb#W0sZmlsZQ%3D%3D?line=30'>31</a>\u001b[0m \u001b[39mimport\u001b[39;00m \u001b[39mtime\u001b[39;00m\n",
      "\u001b[1;31mModuleNotFoundError\u001b[0m: No module named 'talib'"
     ]
    }
   ],
   "source": [
    "%load_ext autoreload\n",
    "%autoreload 2\n",
    "import warnings\n",
    "warnings.filterwarnings('ignore')\n",
    "import pandas as pd\n",
    "import numpy as np\n",
    "import vectorbt as vbt\n",
    "\n",
    "from backtest.use_cases.backtest_execute import backtest_execute\n",
    "from backtest.use_cases.strategy_execute import (stocastic_rsi_ema_mix_function,\n",
    "                                                 trendilo_mix_function,\n",
    "                                                 ema_local_min_max_trandline_function,\n",
    "                                                 ema_swing_low_function,\n",
    "                                                 candle_stick_pattern,\n",
    "                                                 ema_swing_another_function,\n",
    "                                                 finally_fib,\n",
    "                                                 swing_search,)\n",
    "from backtest.domains.strategy_result import StrategyResultColumnType\n",
    "from backtest.request.stockdata_from_repo import build_stock_data_from_repo_request\n",
    "from backtest.use_cases.stockdata_from_repo import stockdata_from_repo\n",
    "from backtest.repository.webrepo.crypto.upbit_repo import UpbitRepo\n",
    "from backtest.domains.backtest_plot_package import BacktestPlotPackage\n",
    "from backtest.domains.backtest import Backtest\n",
    "from backtest.domains.strategy import Strategy\n",
    "from backtest.domains.stockdata import StockData\n",
    "from backtest.use_cases.standardize_stock import standardize_stock\n",
    "from backtest.use_cases.make_crypto_backtest import get_upbit_symbol\n",
    "from datetime import datetime, timedelta\n",
    "import time\n",
    "import pyupbit\n",
    "from typing import List\n",
    "\n",
    "def build_support_stockdata(stockdata_list : List[StockData]) -> pd.DataFrame:\n",
    "    standardize_stock(stockdata_list)\n",
    "    stockdata_support_df = pd.DataFrame(index=stockdata_list[0].data.index)\n",
    "    for stockdata in stockdata_list:\n",
    "        stockdata_df = stockdata.data\n",
    "        symbol = stockdata.symbol\n",
    "        stockdata_df['krw'] = stockdata_df['close'] * stockdata_df['volume']\n",
    "        stockdata_support_df[symbol] = stockdata_df['krw'].rolling(48).sum()\n",
    "    result_support_df = stockdata_support_df.rank(axis=1,ascending = 0)    \n",
    "    \n",
    "    return result_support_df\n",
    "\n",
    "def build_stockdata(symbol: str, from_date: str, cache: bool = False,check_rank: bool = False, big_stock: bool = False):\n",
    "    request = build_stock_data_from_repo_request(\n",
    "        filters={'order__eq': symbol, 'from__eq': from_date, 'chart_interval__eq':'240m'})\n",
    "    response = stockdata_from_repo(UpbitRepo(), request=request, cache=cache)\n",
    "    stockdata = response.value\n",
    "    support_df = None\n",
    "    support_symbols=[ symbol.replace(\"KRW-\",\"\") for symbol in pyupbit.get_tickers(fiat=\"KRW\")]\n",
    "    support_stockdata = []\n",
    "    if check_rank:\n",
    "        for idx,support_symbol in enumerate(support_symbols,1):\n",
    "            # print(\"REQUEST SYMBOL : {} [{}/{}]\".format(support_symbol,idx,len(support_symbols)))\n",
    "            request2 = build_stock_data_from_repo_request(\n",
    "            filters={'order__eq': support_symbol, 'from__eq': from_date})\n",
    "            response2 = stockdata_from_repo(UpbitRepo(), request=request2, cache=cache)\n",
    "            stockdata2 =response2.value\n",
    "            support_stockdata.append(stockdata2)\n",
    "            support_df = build_support_stockdata(support_stockdata)\n",
    "    big_stockdata = None\n",
    "    if big_stock:\n",
    "        big_stock_from_date = datetime.strptime(from_date,'%Y-%m-%d') - timedelta(days=900)\n",
    "        big_request = build_stock_data_from_repo_request(\n",
    "            filters={'order__eq': symbol, 'from__eq': big_stock_from_date.strftime('%Y-%m-%d')})\n",
    "        big_response = stockdata_from_repo(UpbitRepo(), request=big_request, cache=cache)\n",
    "        big_stockdata = big_response.value\n",
    "\n",
    "    return stockdata , support_df , big_stockdata\n",
    "\n",
    "symbols=[symbol.replace(\"KRW-\",\"\") for symbol in pyupbit.get_tickers(fiat=\"KRW\")]\n",
    "symbols=['MTL']\n",
    "for symbol in symbols:\n",
    "    from_date = datetime.now() - timedelta(days=200)\n",
    "    try:\n",
    "        from_date_str = from_date.strftime(\"%Y-%m-%d\")\n",
    "        stockdata,support_df,big_stockdata = build_stockdata(symbol=symbol, from_date=from_date_str, cache=False, big_stock=False, check_rank=False)\n",
    "        #strategy = Strategy(name='stocastic_rsi_ema_mix_function', function=stocastic_rsi_ema_mix_function, weight=100,  options={'heikin_ashi':{stockdata.symbol: stockdata2},'compare_movement':1})\n",
    "        function_name_list = ['finally_fib','swing_search']\n",
    "        strategy1 = Strategy(name='finally_fib',function=finally_fib,weight=100,options={'support_df':support_df,'vp_range':250})\n",
    "        strategy2 = Strategy(name='swing_search',function=swing_search,weight=100,options={'support_df':support_df,})\n",
    "        #strategy4 =  Strategy(name='candle_stick_pattern',function=candle_stick_pattern,weight=100,options={'big_stockdata':big_stockdata,'rolling':30})\n",
    "        backtest = Backtest(strategy_list=[strategy1,strategy2], stockdata_list=[stockdata])\n",
    "        plot_package = BacktestPlotPackage()\n",
    "        backtest_execute(\n",
    "            backtest, verbose=False, plot_package=plot_package).value\n",
    "        for function_name,strategy_result in zip(function_name_list, plot_package.package_data_bucket[symbol]):\n",
    "            strategy_result = strategy_result[function_name][function_name]\n",
    "            buy_signal = strategy_result.apply(lambda r : True if r[0] == StrategyResultColumnType.BUY else False)\n",
    "            sell_signal = strategy_result.apply(lambda r : True if r[0] == StrategyResultColumnType.SELL else False)\n",
    "            print('function result :',function_name)\n",
    "            pf = vbt.Portfolio.from_signals(stockdata.data.close,buy_signal,sell_signal,fees=0.0005)\n",
    "            result=pf.stats()\n",
    "            print(symbol,result['Win Rate [%]'],result['Total Return [%]'])\n",
    "        time.sleep(5)\n",
    "    except Exception as e:\n",
    "        print('error',symbol)"
   ]
  }
 ],
 "metadata": {
  "kernelspec": {
   "display_name": "env",
   "language": "python",
   "name": "python3"
  },
  "language_info": {
   "codemirror_mode": {
    "name": "ipython",
    "version": 3
   },
   "file_extension": ".py",
   "mimetype": "text/x-python",
   "name": "python",
   "nbconvert_exporter": "python",
   "pygments_lexer": "ipython3",
   "version": "3.10.11"
  },
  "vscode": {
   "interpreter": {
    "hash": "d42b11b49e59ca1144df409e382e1987acf2242c86b9272a2736c9041df93c4a"
   }
  }
 },
 "nbformat": 4,
 "nbformat_minor": 5
}
